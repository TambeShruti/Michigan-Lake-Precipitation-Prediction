{
 "cells": [
  {
   "cell_type": "markdown",
   "id": "dfdb0208",
   "metadata": {},
   "source": [
    "### Final Project - Traverse City : Precipitation"
   ]
  },
  {
   "cell_type": "markdown",
   "id": "709e519b",
   "metadata": {},
   "source": [
    "Team Members:<br>\n",
    "    Tarush Singh <br>\n",
    "    Hitesh Pant<br>\n",
    "    Shruti Tambe<br>"
   ]
  },
  {
   "cell_type": "code",
   "execution_count": 1,
   "id": "c6ec1289",
   "metadata": {},
   "outputs": [
    {
     "name": "stderr",
     "output_type": "stream",
     "text": [
      "/home/tarush/.local/lib/python3.10/site-packages/matplotlib/projections/__init__.py:63: UserWarning: Unable to import Axes3D. This may be due to multiple versions of Matplotlib being installed (e.g. as a system package and as a pip package). As a result, the 3D projection is not available.\n",
      "  warnings.warn(\"Unable to import Axes3D. This may be due to multiple versions of \"\n",
      "2023-12-13 14:00:13.586486: E tensorflow/compiler/xla/stream_executor/cuda/cuda_dnn.cc:9342] Unable to register cuDNN factory: Attempting to register factory for plugin cuDNN when one has already been registered\n",
      "2023-12-13 14:00:13.586517: E tensorflow/compiler/xla/stream_executor/cuda/cuda_fft.cc:609] Unable to register cuFFT factory: Attempting to register factory for plugin cuFFT when one has already been registered\n",
      "2023-12-13 14:00:13.587206: E tensorflow/compiler/xla/stream_executor/cuda/cuda_blas.cc:1518] Unable to register cuBLAS factory: Attempting to register factory for plugin cuBLAS when one has already been registered\n",
      "2023-12-13 14:00:13.674382: I tensorflow/core/platform/cpu_feature_guard.cc:182] This TensorFlow binary is optimized to use available CPU instructions in performance-critical operations.\n",
      "To enable the following instructions: AVX2 FMA, in other operations, rebuild TensorFlow with the appropriate compiler flags.\n"
     ]
    }
   ],
   "source": [
    "import pandas as pd\n",
    "import numpy as np\n",
    "import matplotlib.pyplot as plt\n",
    "from sklearn.metrics import f1_score\n",
    "from sklearn.metrics import classification_report\n",
    "import re\n",
    "from datetime import datetime\n",
    "import pandas as pd\n",
    "from tqdm import tqdm\n",
    "import cv2\n",
    "import tensorflow as tf\n",
    "from tensorflow import keras\n",
    "from keras import layers\n",
    "\n",
    "import io\n",
    "import imageio\n",
    "from IPython.display import Image, display\n",
    "from ipywidgets import widgets, Layout, HBox\n",
    "from keras.models import Sequential, Model\n",
    "\n",
    "from keras.optimizers import Adam\n",
    "from keras import mixed_precision\n",
    "from keras.layers import Input, Dense, Conv2D, MaxPooling2D, UpSampling2D, Flatten, Reshape, Dropout, BatchNormalization, ConvLSTM2D, Attention, GlobalAveragePooling2D, Layer\n"
   ]
  },
  {
   "cell_type": "markdown",
   "id": "3192afe7-9f52-448c-95c8-e3201f19142f",
   "metadata": {},
   "source": [
    "From the data we have dropped data for the night-time  valid data for the experiment and can be used to extract important insights from its surrounding areas.\n",
    "Performed EDA and handled mossing values:\n",
    "\n",
    "m or M: Data is missing\n",
    "NC: Wind Chill/Heat Index do not meet the required thresholds to be calculated\n"
   ]
  },
  {
   "cell_type": "code",
   "execution_count": 2,
   "id": "faba85d9",
   "metadata": {},
   "outputs": [],
   "source": [
    "df = pd.read_csv('filtered_les_new.csv')"
   ]
  },
  {
   "cell_type": "code",
   "execution_count": 3,
   "id": "f984cdb0",
   "metadata": {},
   "outputs": [
    {
     "data": {
      "text/html": [
       "<div>\n",
       "<style scoped>\n",
       "    .dataframe tbody tr th:only-of-type {\n",
       "        vertical-align: middle;\n",
       "    }\n",
       "\n",
       "    .dataframe tbody tr th {\n",
       "        vertical-align: top;\n",
       "    }\n",
       "\n",
       "    .dataframe thead th {\n",
       "        text-align: right;\n",
       "    }\n",
       "</style>\n",
       "<table border=\"1\" class=\"dataframe\">\n",
       "  <thead>\n",
       "    <tr style=\"text-align: right;\">\n",
       "      <th></th>\n",
       "      <th>File_name_for_1D_lake</th>\n",
       "      <th>File_name_for_2D_lake</th>\n",
       "      <th>Lake_data_1D</th>\n",
       "      <th>Lake_data_2D</th>\n",
       "      <th>Temp_F</th>\n",
       "      <th>RH_pct</th>\n",
       "      <th>Wind_Spd_mph</th>\n",
       "      <th>Wind_Direction_deg</th>\n",
       "      <th>Low_Cloud_Ht_ft</th>\n",
       "      <th>Med_Cloud_Ht_ft</th>\n",
       "      <th>High_Cloud_Ht_ft</th>\n",
       "      <th>Visibility_mi</th>\n",
       "      <th>Atm_Press_hPa</th>\n",
       "      <th>Sea_Lev_Press_hPa</th>\n",
       "      <th>Altimeter_hPa</th>\n",
       "      <th>Precip_in</th>\n",
       "      <th>LES_Precipitation</th>\n",
       "    </tr>\n",
       "  </thead>\n",
       "  <tbody>\n",
       "    <tr>\n",
       "      <th>0</th>\n",
       "      <td>goes11.2006.10.01.1400.v01.nc-var1-t0.csv</td>\n",
       "      <td>T_goes11.2006.10.01.1400.v01.nc-var1-t0.csv.csv</td>\n",
       "      <td>[0.067499995, 0.07, 0.0625, 0.06, 0.0725, 0.06...</td>\n",
       "      <td>[array([       nan,        nan,        nan,   ...</td>\n",
       "      <td>60.0</td>\n",
       "      <td>49.0</td>\n",
       "      <td>10</td>\n",
       "      <td>270</td>\n",
       "      <td>3600</td>\n",
       "      <td>0</td>\n",
       "      <td>0</td>\n",
       "      <td>10</td>\n",
       "      <td>994.7</td>\n",
       "      <td>1017.8</td>\n",
       "      <td>1017.6</td>\n",
       "      <td>0.0</td>\n",
       "      <td>0.0</td>\n",
       "    </tr>\n",
       "    <tr>\n",
       "      <th>1</th>\n",
       "      <td>goes11.2006.10.01.1500.v01.nc-var1-t0.csv</td>\n",
       "      <td>T_goes11.2006.10.01.1500.v01.nc-var1-t0.csv.csv</td>\n",
       "      <td>[0.067499995, 0.067499995, 0.06, 0.06, 0.05749...</td>\n",
       "      <td>[array([       nan,        nan,        nan,   ...</td>\n",
       "      <td>60.0</td>\n",
       "      <td>47.0</td>\n",
       "      <td>3</td>\n",
       "      <td>0</td>\n",
       "      <td>0</td>\n",
       "      <td>0</td>\n",
       "      <td>0</td>\n",
       "      <td>10</td>\n",
       "      <td>994.7</td>\n",
       "      <td>1017.7</td>\n",
       "      <td>1017.6</td>\n",
       "      <td>0.0</td>\n",
       "      <td>0.0</td>\n",
       "    </tr>\n",
       "    <tr>\n",
       "      <th>2</th>\n",
       "      <td>goes11.2006.10.01.1600.v01.nc-var1-t0.csv</td>\n",
       "      <td>T_goes11.2006.10.01.1600.v01.nc-var1-t0.csv.csv</td>\n",
       "      <td>[0.0725, 0.067499995, 0.07, 0.07, 0.067499995,...</td>\n",
       "      <td>[array([   nan,    nan,    nan,    nan,    nan...</td>\n",
       "      <td>59.0</td>\n",
       "      <td>55.0</td>\n",
       "      <td>6</td>\n",
       "      <td>40</td>\n",
       "      <td>0</td>\n",
       "      <td>0</td>\n",
       "      <td>0</td>\n",
       "      <td>10</td>\n",
       "      <td>994.7</td>\n",
       "      <td>1017.8</td>\n",
       "      <td>1017.6</td>\n",
       "      <td>0.0</td>\n",
       "      <td>0.0</td>\n",
       "    </tr>\n",
       "    <tr>\n",
       "      <th>3</th>\n",
       "      <td>goes11.2006.10.01.1700.v01.nc-var1-t0.csv</td>\n",
       "      <td>T_goes11.2006.10.01.1700.v01.nc-var1-t0.csv.csv</td>\n",
       "      <td>[0.067499995, 0.067499995, 0.067499995, 0.07, ...</td>\n",
       "      <td>[array([ nan,  nan,  nan,  nan,  nan,  nan,  n...</td>\n",
       "      <td>55.0</td>\n",
       "      <td>71.0</td>\n",
       "      <td>0</td>\n",
       "      <td>0</td>\n",
       "      <td>0</td>\n",
       "      <td>0</td>\n",
       "      <td>0</td>\n",
       "      <td>10</td>\n",
       "      <td>994.7</td>\n",
       "      <td>1017.8</td>\n",
       "      <td>1017.6</td>\n",
       "      <td>0.0</td>\n",
       "      <td>0.0</td>\n",
       "    </tr>\n",
       "    <tr>\n",
       "      <th>4</th>\n",
       "      <td>goes11.2006.10.01.1800.v01.nc-var1-t0.csv</td>\n",
       "      <td>T_goes11.2006.10.01.1800.v01.nc-var1-t0.csv.csv</td>\n",
       "      <td>[0.085, 0.085, 0.0875, 0.0725, 0.0775, 0.0775,...</td>\n",
       "      <td>[array([   nan,    nan,    nan,    nan,    nan...</td>\n",
       "      <td>50.0</td>\n",
       "      <td>82.0</td>\n",
       "      <td>0</td>\n",
       "      <td>0</td>\n",
       "      <td>8000</td>\n",
       "      <td>0</td>\n",
       "      <td>0</td>\n",
       "      <td>10</td>\n",
       "      <td>994.7</td>\n",
       "      <td>1017.9</td>\n",
       "      <td>1017.6</td>\n",
       "      <td>0.0</td>\n",
       "      <td>0.0</td>\n",
       "    </tr>\n",
       "  </tbody>\n",
       "</table>\n",
       "</div>"
      ],
      "text/plain": [
       "                       File_name_for_1D_lake  \\\n",
       "0  goes11.2006.10.01.1400.v01.nc-var1-t0.csv   \n",
       "1  goes11.2006.10.01.1500.v01.nc-var1-t0.csv   \n",
       "2  goes11.2006.10.01.1600.v01.nc-var1-t0.csv   \n",
       "3  goes11.2006.10.01.1700.v01.nc-var1-t0.csv   \n",
       "4  goes11.2006.10.01.1800.v01.nc-var1-t0.csv   \n",
       "\n",
       "                             File_name_for_2D_lake  \\\n",
       "0  T_goes11.2006.10.01.1400.v01.nc-var1-t0.csv.csv   \n",
       "1  T_goes11.2006.10.01.1500.v01.nc-var1-t0.csv.csv   \n",
       "2  T_goes11.2006.10.01.1600.v01.nc-var1-t0.csv.csv   \n",
       "3  T_goes11.2006.10.01.1700.v01.nc-var1-t0.csv.csv   \n",
       "4  T_goes11.2006.10.01.1800.v01.nc-var1-t0.csv.csv   \n",
       "\n",
       "                                        Lake_data_1D  \\\n",
       "0  [0.067499995, 0.07, 0.0625, 0.06, 0.0725, 0.06...   \n",
       "1  [0.067499995, 0.067499995, 0.06, 0.06, 0.05749...   \n",
       "2  [0.0725, 0.067499995, 0.07, 0.07, 0.067499995,...   \n",
       "3  [0.067499995, 0.067499995, 0.067499995, 0.07, ...   \n",
       "4  [0.085, 0.085, 0.0875, 0.0725, 0.0775, 0.0775,...   \n",
       "\n",
       "                                        Lake_data_2D  Temp_F  RH_pct  \\\n",
       "0  [array([       nan,        nan,        nan,   ...    60.0    49.0   \n",
       "1  [array([       nan,        nan,        nan,   ...    60.0    47.0   \n",
       "2  [array([   nan,    nan,    nan,    nan,    nan...    59.0    55.0   \n",
       "3  [array([ nan,  nan,  nan,  nan,  nan,  nan,  n...    55.0    71.0   \n",
       "4  [array([   nan,    nan,    nan,    nan,    nan...    50.0    82.0   \n",
       "\n",
       "   Wind_Spd_mph  Wind_Direction_deg  Low_Cloud_Ht_ft  Med_Cloud_Ht_ft  \\\n",
       "0            10                 270             3600                0   \n",
       "1             3                   0                0                0   \n",
       "2             6                  40                0                0   \n",
       "3             0                   0                0                0   \n",
       "4             0                   0             8000                0   \n",
       "\n",
       "   High_Cloud_Ht_ft  Visibility_mi  Atm_Press_hPa  Sea_Lev_Press_hPa  \\\n",
       "0                 0             10          994.7             1017.8   \n",
       "1                 0             10          994.7             1017.7   \n",
       "2                 0             10          994.7             1017.8   \n",
       "3                 0             10          994.7             1017.8   \n",
       "4                 0             10          994.7             1017.9   \n",
       "\n",
       "   Altimeter_hPa  Precip_in  LES_Precipitation  \n",
       "0         1017.6        0.0                0.0  \n",
       "1         1017.6        0.0                0.0  \n",
       "2         1017.6        0.0                0.0  \n",
       "3         1017.6        0.0                0.0  \n",
       "4         1017.6        0.0                0.0  "
      ]
     },
     "execution_count": 3,
     "metadata": {},
     "output_type": "execute_result"
    }
   ],
   "source": [
    "df.head()"
   ]
  },
  {
   "cell_type": "markdown",
   "id": "ff87d5dc",
   "metadata": {},
   "source": [
    "### We write a function to extract datetime from 'File_name_for_1D_lake'"
   ]
  },
  {
   "cell_type": "code",
   "execution_count": 4,
   "id": "e14fe949",
   "metadata": {},
   "outputs": [],
   "source": [
    "\n",
    "\n",
    "def extract_date_time(filename):\n",
    "    # Define the patterns using regular expressions\n",
    "    pattern1 = r'(\\d{4}\\.\\d{2}\\.\\d{2})\\.(\\d{4})\\.v01\\.nc-var1-t0\\.csv'\n",
    "    pattern2 = r'(\\d{4}\\.\\d{2}\\.\\d{2})\\.(\\d{4})\\.v01\\.nc-var0\\.csv'\n",
    "\n",
    "    # Use re.search to find the match in the filename for pattern1\n",
    "    match1 = re.search(pattern1, filename)\n",
    "    \n",
    "    # Use re.search to find the match in the filename for pattern2\n",
    "    match2 = re.search(pattern2, filename)\n",
    "    \n",
    "    if match1:\n",
    "        # Extract the date and time components from the matched groups\n",
    "        date_str, time_str = match1.groups()\n",
    "    elif match2:\n",
    "        # Extract the date component from the matched groups, set time_str to '0'\n",
    "        date_str, time_str = match2.groups()\n",
    "        time_str = '0'\n",
    "    else:\n",
    "        return None\n",
    "\n",
    "    # Extract only the first two characters for the hour component\n",
    "    hour_str = time_str[:2]\n",
    "\n",
    "    # Convert the extracted strings to a datetime object\n",
    "    date_time_obj = datetime.strptime(f'{date_str}.{hour_str}', '%Y.%m.%d.%H')\n",
    "\n",
    "    # Format the datetime object as required (10/01/2006, 14:00)\n",
    "    formatted_date = date_time_obj.strftime('%m/%d/%Y')\n",
    "    formatted_time = date_time_obj.strftime('%H')\n",
    "\n",
    "    return formatted_date, formatted_time\n",
    "# Apply the function to create new columns\n",
    "df[['date', 'time']] = df['File_name_for_1D_lake'].apply(extract_date_time).apply(pd.Series)\n"
   ]
  },
  {
   "cell_type": "code",
   "execution_count": 5,
   "id": "ca842bc8",
   "metadata": {},
   "outputs": [
    {
     "data": {
      "text/html": [
       "<div>\n",
       "<style scoped>\n",
       "    .dataframe tbody tr th:only-of-type {\n",
       "        vertical-align: middle;\n",
       "    }\n",
       "\n",
       "    .dataframe tbody tr th {\n",
       "        vertical-align: top;\n",
       "    }\n",
       "\n",
       "    .dataframe thead th {\n",
       "        text-align: right;\n",
       "    }\n",
       "</style>\n",
       "<table border=\"1\" class=\"dataframe\">\n",
       "  <thead>\n",
       "    <tr style=\"text-align: right;\">\n",
       "      <th></th>\n",
       "      <th>File_name_for_1D_lake</th>\n",
       "      <th>File_name_for_2D_lake</th>\n",
       "      <th>Lake_data_1D</th>\n",
       "      <th>Lake_data_2D</th>\n",
       "      <th>Temp_F</th>\n",
       "      <th>RH_pct</th>\n",
       "      <th>Wind_Spd_mph</th>\n",
       "      <th>Wind_Direction_deg</th>\n",
       "      <th>Low_Cloud_Ht_ft</th>\n",
       "      <th>Med_Cloud_Ht_ft</th>\n",
       "      <th>High_Cloud_Ht_ft</th>\n",
       "      <th>Visibility_mi</th>\n",
       "      <th>Atm_Press_hPa</th>\n",
       "      <th>Sea_Lev_Press_hPa</th>\n",
       "      <th>Altimeter_hPa</th>\n",
       "      <th>Precip_in</th>\n",
       "      <th>LES_Precipitation</th>\n",
       "      <th>date</th>\n",
       "      <th>time</th>\n",
       "    </tr>\n",
       "  </thead>\n",
       "  <tbody>\n",
       "    <tr>\n",
       "      <th>0</th>\n",
       "      <td>goes11.2006.10.01.1400.v01.nc-var1-t0.csv</td>\n",
       "      <td>T_goes11.2006.10.01.1400.v01.nc-var1-t0.csv.csv</td>\n",
       "      <td>[0.067499995, 0.07, 0.0625, 0.06, 0.0725, 0.06...</td>\n",
       "      <td>[array([       nan,        nan,        nan,   ...</td>\n",
       "      <td>60.0</td>\n",
       "      <td>49.0</td>\n",
       "      <td>10</td>\n",
       "      <td>270</td>\n",
       "      <td>3600</td>\n",
       "      <td>0</td>\n",
       "      <td>0</td>\n",
       "      <td>10</td>\n",
       "      <td>994.7</td>\n",
       "      <td>1017.8</td>\n",
       "      <td>1017.6</td>\n",
       "      <td>0.0</td>\n",
       "      <td>0.0</td>\n",
       "      <td>10/01/2006</td>\n",
       "      <td>14</td>\n",
       "    </tr>\n",
       "    <tr>\n",
       "      <th>1</th>\n",
       "      <td>goes11.2006.10.01.1500.v01.nc-var1-t0.csv</td>\n",
       "      <td>T_goes11.2006.10.01.1500.v01.nc-var1-t0.csv.csv</td>\n",
       "      <td>[0.067499995, 0.067499995, 0.06, 0.06, 0.05749...</td>\n",
       "      <td>[array([       nan,        nan,        nan,   ...</td>\n",
       "      <td>60.0</td>\n",
       "      <td>47.0</td>\n",
       "      <td>3</td>\n",
       "      <td>0</td>\n",
       "      <td>0</td>\n",
       "      <td>0</td>\n",
       "      <td>0</td>\n",
       "      <td>10</td>\n",
       "      <td>994.7</td>\n",
       "      <td>1017.7</td>\n",
       "      <td>1017.6</td>\n",
       "      <td>0.0</td>\n",
       "      <td>0.0</td>\n",
       "      <td>10/01/2006</td>\n",
       "      <td>15</td>\n",
       "    </tr>\n",
       "    <tr>\n",
       "      <th>2</th>\n",
       "      <td>goes11.2006.10.01.1600.v01.nc-var1-t0.csv</td>\n",
       "      <td>T_goes11.2006.10.01.1600.v01.nc-var1-t0.csv.csv</td>\n",
       "      <td>[0.0725, 0.067499995, 0.07, 0.07, 0.067499995,...</td>\n",
       "      <td>[array([   nan,    nan,    nan,    nan,    nan...</td>\n",
       "      <td>59.0</td>\n",
       "      <td>55.0</td>\n",
       "      <td>6</td>\n",
       "      <td>40</td>\n",
       "      <td>0</td>\n",
       "      <td>0</td>\n",
       "      <td>0</td>\n",
       "      <td>10</td>\n",
       "      <td>994.7</td>\n",
       "      <td>1017.8</td>\n",
       "      <td>1017.6</td>\n",
       "      <td>0.0</td>\n",
       "      <td>0.0</td>\n",
       "      <td>10/01/2006</td>\n",
       "      <td>16</td>\n",
       "    </tr>\n",
       "    <tr>\n",
       "      <th>3</th>\n",
       "      <td>goes11.2006.10.01.1700.v01.nc-var1-t0.csv</td>\n",
       "      <td>T_goes11.2006.10.01.1700.v01.nc-var1-t0.csv.csv</td>\n",
       "      <td>[0.067499995, 0.067499995, 0.067499995, 0.07, ...</td>\n",
       "      <td>[array([ nan,  nan,  nan,  nan,  nan,  nan,  n...</td>\n",
       "      <td>55.0</td>\n",
       "      <td>71.0</td>\n",
       "      <td>0</td>\n",
       "      <td>0</td>\n",
       "      <td>0</td>\n",
       "      <td>0</td>\n",
       "      <td>0</td>\n",
       "      <td>10</td>\n",
       "      <td>994.7</td>\n",
       "      <td>1017.8</td>\n",
       "      <td>1017.6</td>\n",
       "      <td>0.0</td>\n",
       "      <td>0.0</td>\n",
       "      <td>10/01/2006</td>\n",
       "      <td>17</td>\n",
       "    </tr>\n",
       "    <tr>\n",
       "      <th>4</th>\n",
       "      <td>goes11.2006.10.01.1800.v01.nc-var1-t0.csv</td>\n",
       "      <td>T_goes11.2006.10.01.1800.v01.nc-var1-t0.csv.csv</td>\n",
       "      <td>[0.085, 0.085, 0.0875, 0.0725, 0.0775, 0.0775,...</td>\n",
       "      <td>[array([   nan,    nan,    nan,    nan,    nan...</td>\n",
       "      <td>50.0</td>\n",
       "      <td>82.0</td>\n",
       "      <td>0</td>\n",
       "      <td>0</td>\n",
       "      <td>8000</td>\n",
       "      <td>0</td>\n",
       "      <td>0</td>\n",
       "      <td>10</td>\n",
       "      <td>994.7</td>\n",
       "      <td>1017.9</td>\n",
       "      <td>1017.6</td>\n",
       "      <td>0.0</td>\n",
       "      <td>0.0</td>\n",
       "      <td>10/01/2006</td>\n",
       "      <td>18</td>\n",
       "    </tr>\n",
       "  </tbody>\n",
       "</table>\n",
       "</div>"
      ],
      "text/plain": [
       "                       File_name_for_1D_lake  \\\n",
       "0  goes11.2006.10.01.1400.v01.nc-var1-t0.csv   \n",
       "1  goes11.2006.10.01.1500.v01.nc-var1-t0.csv   \n",
       "2  goes11.2006.10.01.1600.v01.nc-var1-t0.csv   \n",
       "3  goes11.2006.10.01.1700.v01.nc-var1-t0.csv   \n",
       "4  goes11.2006.10.01.1800.v01.nc-var1-t0.csv   \n",
       "\n",
       "                             File_name_for_2D_lake  \\\n",
       "0  T_goes11.2006.10.01.1400.v01.nc-var1-t0.csv.csv   \n",
       "1  T_goes11.2006.10.01.1500.v01.nc-var1-t0.csv.csv   \n",
       "2  T_goes11.2006.10.01.1600.v01.nc-var1-t0.csv.csv   \n",
       "3  T_goes11.2006.10.01.1700.v01.nc-var1-t0.csv.csv   \n",
       "4  T_goes11.2006.10.01.1800.v01.nc-var1-t0.csv.csv   \n",
       "\n",
       "                                        Lake_data_1D  \\\n",
       "0  [0.067499995, 0.07, 0.0625, 0.06, 0.0725, 0.06...   \n",
       "1  [0.067499995, 0.067499995, 0.06, 0.06, 0.05749...   \n",
       "2  [0.0725, 0.067499995, 0.07, 0.07, 0.067499995,...   \n",
       "3  [0.067499995, 0.067499995, 0.067499995, 0.07, ...   \n",
       "4  [0.085, 0.085, 0.0875, 0.0725, 0.0775, 0.0775,...   \n",
       "\n",
       "                                        Lake_data_2D  Temp_F  RH_pct  \\\n",
       "0  [array([       nan,        nan,        nan,   ...    60.0    49.0   \n",
       "1  [array([       nan,        nan,        nan,   ...    60.0    47.0   \n",
       "2  [array([   nan,    nan,    nan,    nan,    nan...    59.0    55.0   \n",
       "3  [array([ nan,  nan,  nan,  nan,  nan,  nan,  n...    55.0    71.0   \n",
       "4  [array([   nan,    nan,    nan,    nan,    nan...    50.0    82.0   \n",
       "\n",
       "   Wind_Spd_mph  Wind_Direction_deg  Low_Cloud_Ht_ft  Med_Cloud_Ht_ft  \\\n",
       "0            10                 270             3600                0   \n",
       "1             3                   0                0                0   \n",
       "2             6                  40                0                0   \n",
       "3             0                   0                0                0   \n",
       "4             0                   0             8000                0   \n",
       "\n",
       "   High_Cloud_Ht_ft  Visibility_mi  Atm_Press_hPa  Sea_Lev_Press_hPa  \\\n",
       "0                 0             10          994.7             1017.8   \n",
       "1                 0             10          994.7             1017.7   \n",
       "2                 0             10          994.7             1017.8   \n",
       "3                 0             10          994.7             1017.8   \n",
       "4                 0             10          994.7             1017.9   \n",
       "\n",
       "   Altimeter_hPa  Precip_in  LES_Precipitation        date time  \n",
       "0         1017.6        0.0                0.0  10/01/2006   14  \n",
       "1         1017.6        0.0                0.0  10/01/2006   15  \n",
       "2         1017.6        0.0                0.0  10/01/2006   16  \n",
       "3         1017.6        0.0                0.0  10/01/2006   17  \n",
       "4         1017.6        0.0                0.0  10/01/2006   18  "
      ]
     },
     "execution_count": 5,
     "metadata": {},
     "output_type": "execute_result"
    }
   ],
   "source": [
    "df.head()"
   ]
  },
  {
   "cell_type": "markdown",
   "id": "843fcf24-8017-4b92-ab21-778f604b240f",
   "metadata": {},
   "source": [
    "Looping through 100 images with progress bar\n",
    "\n",
    "Extracting and storing the first channel (grayscale)\n",
    "\n",
    "Reshaping the images [images shape -> (35, 64, 64)]"
   ]
  },
  {
   "cell_type": "code",
   "execution_count": 6,
   "id": "4c222ab7",
   "metadata": {},
   "outputs": [
    {
     "name": "stderr",
     "output_type": "stream",
     "text": [
      "  0%|          | 0/100 [00:00<?, ?it/s]100%|██████████| 100/100 [00:00<00:00, 3290.01it/s]\n"
     ]
    }
   ],
   "source": [
    "\n",
    "\n",
    "batch = []\n",
    "for idx in tqdm(range(100)):\n",
    "    # im shape -> (64, 64)\n",
    "    im = cv2.imread(f'lake-michigan-64-2006-2017/lake-michigan-images-64/{int(idx)}.png')\n",
    "    # Storing 1 channel, since the images are grayscale\n",
    "    batch.append(im[:,:,0]) \n",
    "    # images shape -> (35, 64, 64) "
   ]
  },
  {
   "cell_type": "code",
   "execution_count": 7,
   "id": "a71e8dd6",
   "metadata": {},
   "outputs": [
    {
     "data": {
      "text/plain": [
       "(100, (64, 64))"
      ]
     },
     "execution_count": 7,
     "metadata": {},
     "output_type": "execute_result"
    }
   ],
   "source": [
    "len(batch), batch[0].shape"
   ]
  },
  {
   "cell_type": "code",
   "execution_count": 8,
   "id": "df9502e0",
   "metadata": {},
   "outputs": [],
   "source": [
    "# pip install imageio"
   ]
  },
  {
   "cell_type": "code",
   "execution_count": 9,
   "id": "7679b2b2",
   "metadata": {},
   "outputs": [
    {
     "name": "stderr",
     "output_type": "stream",
     "text": [
      "2023-12-13 14:00:30.001756: I tensorflow/compiler/xla/stream_executor/cuda/cuda_gpu_executor.cc:894] successful NUMA node read from SysFS had negative value (-1), but there must be at least one NUMA node, so returning NUMA node zero. See more at https://github.com/torvalds/linux/blob/v6.0/Documentation/ABI/testing/sysfs-bus-pci#L344-L355\n",
      "2023-12-13 14:00:30.023276: I tensorflow/compiler/xla/stream_executor/cuda/cuda_gpu_executor.cc:894] successful NUMA node read from SysFS had negative value (-1), but there must be at least one NUMA node, so returning NUMA node zero. See more at https://github.com/torvalds/linux/blob/v6.0/Documentation/ABI/testing/sysfs-bus-pci#L344-L355\n",
      "2023-12-13 14:00:30.023541: I tensorflow/compiler/xla/stream_executor/cuda/cuda_gpu_executor.cc:894] successful NUMA node read from SysFS had negative value (-1), but there must be at least one NUMA node, so returning NUMA node zero. See more at https://github.com/torvalds/linux/blob/v6.0/Documentation/ABI/testing/sysfs-bus-pci#L344-L355\n",
      "2023-12-13 14:00:30.024775: I tensorflow/compiler/xla/stream_executor/cuda/cuda_gpu_executor.cc:894] successful NUMA node read from SysFS had negative value (-1), but there must be at least one NUMA node, so returning NUMA node zero. See more at https://github.com/torvalds/linux/blob/v6.0/Documentation/ABI/testing/sysfs-bus-pci#L344-L355\n",
      "2023-12-13 14:00:30.024988: I tensorflow/compiler/xla/stream_executor/cuda/cuda_gpu_executor.cc:894] successful NUMA node read from SysFS had negative value (-1), but there must be at least one NUMA node, so returning NUMA node zero. See more at https://github.com/torvalds/linux/blob/v6.0/Documentation/ABI/testing/sysfs-bus-pci#L344-L355\n",
      "2023-12-13 14:00:30.025175: I tensorflow/compiler/xla/stream_executor/cuda/cuda_gpu_executor.cc:894] successful NUMA node read from SysFS had negative value (-1), but there must be at least one NUMA node, so returning NUMA node zero. See more at https://github.com/torvalds/linux/blob/v6.0/Documentation/ABI/testing/sysfs-bus-pci#L344-L355\n",
      "2023-12-13 14:00:30.091796: I tensorflow/compiler/xla/stream_executor/cuda/cuda_gpu_executor.cc:894] successful NUMA node read from SysFS had negative value (-1), but there must be at least one NUMA node, so returning NUMA node zero. See more at https://github.com/torvalds/linux/blob/v6.0/Documentation/ABI/testing/sysfs-bus-pci#L344-L355\n",
      "2023-12-13 14:00:30.092011: I tensorflow/compiler/xla/stream_executor/cuda/cuda_gpu_executor.cc:894] successful NUMA node read from SysFS had negative value (-1), but there must be at least one NUMA node, so returning NUMA node zero. See more at https://github.com/torvalds/linux/blob/v6.0/Documentation/ABI/testing/sysfs-bus-pci#L344-L355\n",
      "2023-12-13 14:00:30.092198: I tensorflow/compiler/xla/stream_executor/cuda/cuda_gpu_executor.cc:894] successful NUMA node read from SysFS had negative value (-1), but there must be at least one NUMA node, so returning NUMA node zero. See more at https://github.com/torvalds/linux/blob/v6.0/Documentation/ABI/testing/sysfs-bus-pci#L344-L355\n",
      "2023-12-13 14:00:30.092363: I tensorflow/core/common_runtime/gpu/gpu_device.cc:1886] Created device /job:localhost/replica:0/task:0/device:GPU:0 with 4238 MB memory:  -> device: 0, name: NVIDIA GeForce RTX 3060 Laptop GPU, pci bus id: 0000:01:00.0, compute capability: 8.6\n"
     ]
    }
   ],
   "source": [
    "sliding_batch = tf.keras.preprocessing.timeseries_dataset_from_array(batch, None, 6, sequence_stride=1, sampling_rate=1, \n",
    "                                                                     batch_size=100)"
   ]
  },
  {
   "cell_type": "code",
   "execution_count": 10,
   "id": "7f15ef98",
   "metadata": {},
   "outputs": [
    {
     "name": "stdout",
     "output_type": "stream",
     "text": [
      "tf.Tensor(\n",
      "[[[0 0 0 ... 0 0 0]\n",
      "  [0 0 0 ... 0 0 0]\n",
      "  [0 0 0 ... 0 0 0]\n",
      "  ...\n",
      "  [0 0 0 ... 0 0 0]\n",
      "  [0 0 0 ... 0 0 0]\n",
      "  [0 0 0 ... 0 0 0]]\n",
      "\n",
      " [[0 0 0 ... 0 0 0]\n",
      "  [0 0 0 ... 0 0 0]\n",
      "  [0 0 0 ... 0 0 0]\n",
      "  ...\n",
      "  [0 0 0 ... 0 0 0]\n",
      "  [0 0 0 ... 0 0 0]\n",
      "  [0 0 0 ... 0 0 0]]\n",
      "\n",
      " [[0 0 0 ... 0 0 0]\n",
      "  [0 0 0 ... 0 0 0]\n",
      "  [0 0 0 ... 0 0 0]\n",
      "  ...\n",
      "  [0 0 0 ... 0 0 0]\n",
      "  [0 0 0 ... 0 0 0]\n",
      "  [0 0 0 ... 0 0 0]]\n",
      "\n",
      " [[0 0 0 ... 0 0 0]\n",
      "  [0 0 0 ... 0 0 0]\n",
      "  [0 0 0 ... 0 0 0]\n",
      "  ...\n",
      "  [0 0 0 ... 0 0 0]\n",
      "  [0 0 0 ... 0 0 0]\n",
      "  [0 0 0 ... 0 0 0]]\n",
      "\n",
      " [[0 0 0 ... 0 0 0]\n",
      "  [0 0 0 ... 0 0 0]\n",
      "  [0 0 0 ... 0 0 0]\n",
      "  ...\n",
      "  [0 0 0 ... 0 0 0]\n",
      "  [0 0 0 ... 0 0 0]\n",
      "  [0 0 0 ... 0 0 0]]\n",
      "\n",
      " [[0 0 0 ... 0 0 0]\n",
      "  [0 0 0 ... 0 0 0]\n",
      "  [0 0 0 ... 0 0 0]\n",
      "  ...\n",
      "  [0 0 0 ... 0 0 0]\n",
      "  [0 0 0 ... 0 0 0]\n",
      "  [0 0 0 ... 0 0 0]]], shape=(6, 64, 64), dtype=uint8)\n"
     ]
    }
   ],
   "source": [
    "for batch in sliding_batch:\n",
    "    #inputs, targets = batch\n",
    "    inputs = batch\n",
    "    print(inputs[0])\n",
    "    #assert np.array_equal(inputs[0], data[:10])  # First sequence: steps [0-9]\n",
    "    # Corresponding target: step 10\n",
    "    #assert np.array_equal(targets[0], data[10])\n",
    "    break"
   ]
  },
  {
   "cell_type": "code",
   "execution_count": 11,
   "id": "73e34555",
   "metadata": {},
   "outputs": [
    {
     "data": {
      "text/plain": [
       "[array([[0, 1],\n",
       "        [2, 3]]),\n",
       " array([[1, 2],\n",
       "        [3, 4]]),\n",
       " array([[2, 3],\n",
       "        [4, 5]]),\n",
       " array([[3, 4],\n",
       "        [5, 6]]),\n",
       " array([[4, 5],\n",
       "        [6, 7]]),\n",
       " array([[5, 6],\n",
       "        [7, 8]]),\n",
       " array([[6, 7],\n",
       "        [8, 9]]),\n",
       " array([[ 7,  8],\n",
       "        [ 9, 10]]),\n",
       " array([[ 8,  9],\n",
       "        [10, 11]]),\n",
       " array([[ 9, 10],\n",
       "        [11, 12]])]"
      ]
     },
     "execution_count": 11,
     "metadata": {},
     "output_type": "execute_result"
    }
   ],
   "source": [
    "a = []\n",
    "for i in range(10):\n",
    "    a.append(np.arange(i, i + 4).reshape((2, 2)))\n",
    "a"
   ]
  },
  {
   "cell_type": "markdown",
   "id": "b14e554e-cd9a-4e3e-8974-41df380f8c6e",
   "metadata": {},
   "source": [
    "### Creating a TensorFlow Dataset for time series analysis"
   ]
  },
  {
   "cell_type": "code",
   "execution_count": 12,
   "id": "57a9ca52",
   "metadata": {},
   "outputs": [],
   "source": [
    "x3 = tf.keras.preprocessing.timeseries_dataset_from_array(a, None, 4, sequence_stride=1, sampling_rate=1)"
   ]
  },
  {
   "cell_type": "code",
   "execution_count": 13,
   "id": "43a434ce",
   "metadata": {},
   "outputs": [
    {
     "name": "stdout",
     "output_type": "stream",
     "text": [
      "tf.Tensor(\n",
      "[[[[ 0  1]\n",
      "   [ 2  3]]\n",
      "\n",
      "  [[ 1  2]\n",
      "   [ 3  4]]\n",
      "\n",
      "  [[ 2  3]\n",
      "   [ 4  5]]\n",
      "\n",
      "  [[ 3  4]\n",
      "   [ 5  6]]]\n",
      "\n",
      "\n",
      " [[[ 1  2]\n",
      "   [ 3  4]]\n",
      "\n",
      "  [[ 2  3]\n",
      "   [ 4  5]]\n",
      "\n",
      "  [[ 3  4]\n",
      "   [ 5  6]]\n",
      "\n",
      "  [[ 4  5]\n",
      "   [ 6  7]]]\n",
      "\n",
      "\n",
      " [[[ 2  3]\n",
      "   [ 4  5]]\n",
      "\n",
      "  [[ 3  4]\n",
      "   [ 5  6]]\n",
      "\n",
      "  [[ 4  5]\n",
      "   [ 6  7]]\n",
      "\n",
      "  [[ 5  6]\n",
      "   [ 7  8]]]\n",
      "\n",
      "\n",
      " [[[ 3  4]\n",
      "   [ 5  6]]\n",
      "\n",
      "  [[ 4  5]\n",
      "   [ 6  7]]\n",
      "\n",
      "  [[ 5  6]\n",
      "   [ 7  8]]\n",
      "\n",
      "  [[ 6  7]\n",
      "   [ 8  9]]]\n",
      "\n",
      "\n",
      " [[[ 4  5]\n",
      "   [ 6  7]]\n",
      "\n",
      "  [[ 5  6]\n",
      "   [ 7  8]]\n",
      "\n",
      "  [[ 6  7]\n",
      "   [ 8  9]]\n",
      "\n",
      "  [[ 7  8]\n",
      "   [ 9 10]]]\n",
      "\n",
      "\n",
      " [[[ 5  6]\n",
      "   [ 7  8]]\n",
      "\n",
      "  [[ 6  7]\n",
      "   [ 8  9]]\n",
      "\n",
      "  [[ 7  8]\n",
      "   [ 9 10]]\n",
      "\n",
      "  [[ 8  9]\n",
      "   [10 11]]]\n",
      "\n",
      "\n",
      " [[[ 6  7]\n",
      "   [ 8  9]]\n",
      "\n",
      "  [[ 7  8]\n",
      "   [ 9 10]]\n",
      "\n",
      "  [[ 8  9]\n",
      "   [10 11]]\n",
      "\n",
      "  [[ 9 10]\n",
      "   [11 12]]]], shape=(7, 4, 2, 2), dtype=int64)\n",
      "--\n"
     ]
    }
   ],
   "source": [
    "for batch in x3:\n",
    "    print(batch)\n",
    "    print('--')"
   ]
  },
  {
   "cell_type": "markdown",
   "id": "180d1e8f-c9f1-4f9b-9e3a-5a02e1d56500",
   "metadata": {},
   "source": [
    "16,000 images, reading each one and extracting the first channel (grayscale data), resulting in a consistent size of (35, 64, 64) for all images."
   ]
  },
  {
   "cell_type": "code",
   "execution_count": 14,
   "id": "22b94efb",
   "metadata": {},
   "outputs": [
    {
     "name": "stderr",
     "output_type": "stream",
     "text": [
      "100%|██████████| 15959/15959 [00:02<00:00, 5595.82it/s]\n"
     ]
    }
   ],
   "source": [
    "images = []\n",
    "for idx in tqdm(range(15959)):\n",
    "    # im shape -> (64, 64)\n",
    "    im = cv2.imread('lake-michigan-64-2006-2017/lake-michigan-images-64/' + str(idx) + '.png')\n",
    "    # Storing 1 channel, since the images are grayscale, and cropping\n",
    "    images.append(im[8:-8,8:-8,0]) \n",
    "    # images shape -> (35, 64, 64) "
   ]
  },
  {
   "cell_type": "code",
   "execution_count": 15,
   "id": "d7071ee7",
   "metadata": {},
   "outputs": [],
   "source": [
    "imgs_train_batch = tf.keras.preprocessing.timeseries_dataset_from_array(images[:3000], None, 7, sequence_stride=1, \n",
    "                                                                        sampling_rate=1, batch_size=3000)\n",
    "imgs_val_batch = tf.keras.preprocessing.timeseries_dataset_from_array(images[3000:4000], None, 7, sequence_stride=1, \n",
    "                                                                       sampling_rate=1, batch_size=1000)"
   ]
  },
  {
   "cell_type": "code",
   "execution_count": 16,
   "id": "2aea7497",
   "metadata": {},
   "outputs": [
    {
     "name": "stdout",
     "output_type": "stream",
     "text": [
      "(2994, 7, 48, 48)\n",
      "--\n"
     ]
    }
   ],
   "source": [
    "for batch in imgs_train_batch:\n",
    "    print(batch.shape)\n",
    "    print('--')"
   ]
  },
  {
   "cell_type": "code",
   "execution_count": 17,
   "id": "c6027d00",
   "metadata": {},
   "outputs": [
    {
     "name": "stdout",
     "output_type": "stream",
     "text": [
      "(994, 7, 48, 48)\n",
      "--\n"
     ]
    }
   ],
   "source": [
    "for batch in imgs_val_batch:\n",
    "    print(batch.shape)\n",
    "    print('--')"
   ]
  },
  {
   "cell_type": "code",
   "execution_count": null,
   "id": "204073d4",
   "metadata": {},
   "outputs": [],
   "source": [
    "#Normalizing the data from 0 to 1"
   ]
  },
  {
   "cell_type": "code",
   "execution_count": 18,
   "id": "a20007db",
   "metadata": {},
   "outputs": [
    {
     "name": "stdout",
     "output_type": "stream",
     "text": [
      "(2994, 7, 48, 48, 1)\n"
     ]
    }
   ],
   "source": [
    "train_dataset = None\n",
    "for batch in imgs_train_batch:\n",
    "    train_dataset = np.expand_dims(batch, axis=-1)\n",
    "    print(train_dataset.shape)\n",
    "    train_dataset = train_dataset / 255"
   ]
  },
  {
   "cell_type": "code",
   "execution_count": 19,
   "id": "cfcacd35",
   "metadata": {},
   "outputs": [
    {
     "name": "stdout",
     "output_type": "stream",
     "text": [
      "(994, 7, 48, 48, 1)\n"
     ]
    }
   ],
   "source": [
    "val_dataset = None\n",
    "for batch in imgs_val_batch:\n",
    "    val_dataset = np.expand_dims(batch, axis=-1)\n",
    "    print(val_dataset.shape)\n",
    "    val_dataset = val_dataset / 255"
   ]
  },
  {
   "cell_type": "markdown",
   "id": "5af558c1-cbfe-40a2-b7df-6cf002a860fe",
   "metadata": {},
   "source": [
    "create_shifted_frames and then applies it to two datasets, train_dataset and val_dataset\n",
    "This line extracts another sub-array from the input data, similar to the previous line but starting at the second element and excluding the last element. This essentially creates a one-step shifted version of the original data"
   ]
  },
  {
   "cell_type": "code",
   "execution_count": 20,
   "id": "967f1bb4",
   "metadata": {},
   "outputs": [
    {
     "name": "stdout",
     "output_type": "stream",
     "text": [
      "Training Dataset Shapes: (2994, 6, 48, 48, 1), (2994, 6, 48, 48, 1)\n",
      "Validation Dataset Shapes: (994, 6, 48, 48, 1), (994, 6, 48, 48, 1)\n"
     ]
    }
   ],
   "source": [
    "def create_shifted_frames(data):\n",
    "    x = data[:, 0 : data.shape[1] - 1, :, :]\n",
    "    y = data[:, 1 : data.shape[1], :, :]\n",
    "    return x, y\n",
    "\n",
    "# Apply the processing function to the datasets.\n",
    "x_train, y_train = create_shifted_frames(train_dataset) \n",
    "x_val, y_val = create_shifted_frames(val_dataset)\n",
    "\n",
    "# Inspect the dataset.\n",
    "print(\"Training Dataset Shapes: \" + str(x_train.shape) + \", \" + str(y_train.shape))\n",
    "print(\"Validation Dataset Shapes: \" + str(x_val.shape) + \", \" + str(y_val.shape))"
   ]
  },
  {
   "cell_type": "code",
   "execution_count": 21,
   "id": "49b2cba2",
   "metadata": {},
   "outputs": [
    {
     "name": "stdout",
     "output_type": "stream",
     "text": [
      "Displaying frames for example 994.\n"
     ]
    },
    {
     "data": {
      "image/png": "[encoded data removed]",
      "text/plain": [
       "<Figure size 1000x800 with 7 Axes>"
      ]
     },
     "metadata": {},
     "output_type": "display_data"
    }
   ],
   "source": [
    "# Construct a figure on which we will visualize the images.\n",
    "fig, axes = plt.subplots(1, 7, figsize=(10, 8))\n",
    "\n",
    "# Plot each of the sequential images for one random data example.\n",
    "data_choice = np.random.choice(range(len(train_dataset)), size=1)[0]\n",
    "for idx, ax in enumerate(axes.flat):\n",
    "    ax.imshow(np.squeeze(train_dataset[data_choice][idx]), cmap=\"gray\")\n",
    "    ax.set_title(f\"Frame {idx + 1}\")\n",
    "    ax.axis(\"off\")\n",
    "\n",
    "# Print information and display the figure.\n",
    "print(f\"Displaying frames for example {data_choice}.\")\n",
    "plt.show()"
   ]
  },
  {
   "cell_type": "code",
   "execution_count": 22,
   "id": "c4b6a5a6",
   "metadata": {},
   "outputs": [
    {
     "data": {
      "text/plain": [
       "(2994, 6, 48, 48, 1)"
      ]
     },
     "execution_count": 22,
     "metadata": {},
     "output_type": "execute_result"
    }
   ],
   "source": [
    "x_train.shape"
   ]
  },
  {
   "cell_type": "code",
   "execution_count": 23,
   "id": "30337dd8",
   "metadata": {},
   "outputs": [
    {
     "data": {
      "text/plain": [
       "(48, 48, 1)"
      ]
     },
     "execution_count": 23,
     "metadata": {},
     "output_type": "execute_result"
    }
   ],
   "source": [
    "x_train.shape[2:]"
   ]
  },
  {
   "cell_type": "code",
   "execution_count": 24,
   "id": "4a7ae470",
   "metadata": {},
   "outputs": [
    {
     "data": {
      "text/plain": [
       "(None, (48, 48, 1))"
      ]
     },
     "execution_count": 24,
     "metadata": {},
     "output_type": "execute_result"
    }
   ],
   "source": [
    "(None, x_train.shape[2:])"
   ]
  },
  {
   "cell_type": "code",
   "execution_count": 25,
   "id": "df32eff2",
   "metadata": {},
   "outputs": [
    {
     "data": {
      "text/plain": [
       "(None, 48, 48, 1)"
      ]
     },
     "execution_count": 25,
     "metadata": {},
     "output_type": "execute_result"
    }
   ],
   "source": [
    "(None, *x_train.shape[2:])"
   ]
  },
  {
   "cell_type": "markdown",
   "id": "94a411d0",
   "metadata": {},
   "source": [
    "### Data Prep for imagery and meteo"
   ]
  },
  {
   "cell_type": "markdown",
   "id": "299aa94d",
   "metadata": {},
   "source": [
    "This is how we can going to create our LSTM tensor for meteo data:"
   ]
  },
  {
   "cell_type": "code",
   "execution_count": 26,
   "id": "e58508de",
   "metadata": {},
   "outputs": [
    {
     "data": {
      "text/plain": [
       "[array([[0, 1],\n",
       "        [2, 3]]),\n",
       " array([[1, 2],\n",
       "        [3, 4]]),\n",
       " array([[2, 3],\n",
       "        [4, 5]]),\n",
       " array([[3, 4],\n",
       "        [5, 6]]),\n",
       " array([[4, 5],\n",
       "        [6, 7]]),\n",
       " array([[5, 6],\n",
       "        [7, 8]]),\n",
       " array([[6, 7],\n",
       "        [8, 9]]),\n",
       " array([[ 7,  8],\n",
       "        [ 9, 10]]),\n",
       " array([[ 8,  9],\n",
       "        [10, 11]]),\n",
       " array([[ 9, 10],\n",
       "        [11, 12]]),\n",
       " array([[10, 11],\n",
       "        [12, 13]]),\n",
       " array([[11, 12],\n",
       "        [13, 14]]),\n",
       " array([[12, 13],\n",
       "        [14, 15]]),\n",
       " array([[13, 14],\n",
       "        [15, 16]]),\n",
       " array([[14, 15],\n",
       "        [16, 17]]),\n",
       " array([[15, 16],\n",
       "        [17, 18]]),\n",
       " array([[16, 17],\n",
       "        [18, 19]]),\n",
       " array([[17, 18],\n",
       "        [19, 20]]),\n",
       " array([[18, 19],\n",
       "        [20, 21]]),\n",
       " array([[19, 20],\n",
       "        [21, 22]]),\n",
       " array([[20, 21],\n",
       "        [22, 23]]),\n",
       " array([[21, 22],\n",
       "        [23, 24]]),\n",
       " array([[22, 23],\n",
       "        [24, 25]]),\n",
       " array([[23, 24],\n",
       "        [25, 26]]),\n",
       " array([[24, 25],\n",
       "        [26, 27]]),\n",
       " array([[25, 26],\n",
       "        [27, 28]]),\n",
       " array([[26, 27],\n",
       "        [28, 29]]),\n",
       " array([[27, 28],\n",
       "        [29, 30]]),\n",
       " array([[28, 29],\n",
       "        [30, 31]]),\n",
       " array([[29, 30],\n",
       "        [31, 32]]),\n",
       " array([[30, 31],\n",
       "        [32, 33]]),\n",
       " array([[31, 32],\n",
       "        [33, 34]]),\n",
       " array([[32, 33],\n",
       "        [34, 35]]),\n",
       " array([[33, 34],\n",
       "        [35, 36]]),\n",
       " array([[34, 35],\n",
       "        [36, 37]]),\n",
       " array([[35, 36],\n",
       "        [37, 38]]),\n",
       " array([[36, 37],\n",
       "        [38, 39]]),\n",
       " array([[37, 38],\n",
       "        [39, 40]]),\n",
       " array([[38, 39],\n",
       "        [40, 41]]),\n",
       " array([[39, 40],\n",
       "        [41, 42]]),\n",
       " array([[40, 41],\n",
       "        [42, 43]]),\n",
       " array([[41, 42],\n",
       "        [43, 44]]),\n",
       " array([[42, 43],\n",
       "        [44, 45]]),\n",
       " array([[43, 44],\n",
       "        [45, 46]]),\n",
       " array([[44, 45],\n",
       "        [46, 47]]),\n",
       " array([[45, 46],\n",
       "        [47, 48]]),\n",
       " array([[46, 47],\n",
       "        [48, 49]]),\n",
       " array([[47, 48],\n",
       "        [49, 50]]),\n",
       " array([[48, 49],\n",
       "        [50, 51]]),\n",
       " array([[49, 50],\n",
       "        [51, 52]])]"
      ]
     },
     "execution_count": 26,
     "metadata": {},
     "output_type": "execute_result"
    }
   ],
   "source": [
    "a = []\n",
    "for i in range(50):\n",
    "    a.append(np.arange(i, i + 4).reshape((2, 2)))\n",
    "a"
   ]
  },
  {
   "cell_type": "code",
   "execution_count": 27,
   "id": "5a61e801",
   "metadata": {},
   "outputs": [],
   "source": [
    "x3 = tf.keras.preprocessing.timeseries_dataset_from_array(a, None, 24, sequence_stride=24, sampling_rate=1, batch_size=50)"
   ]
  },
  {
   "cell_type": "code",
   "execution_count": 28,
   "id": "42525047",
   "metadata": {},
   "outputs": [
    {
     "name": "stdout",
     "output_type": "stream",
     "text": [
      "tf.Tensor(\n",
      "[[[[ 0  1]\n",
      "   [ 2  3]]\n",
      "\n",
      "  [[ 1  2]\n",
      "   [ 3  4]]\n",
      "\n",
      "  [[ 2  3]\n",
      "   [ 4  5]]\n",
      "\n",
      "  [[ 3  4]\n",
      "   [ 5  6]]\n",
      "\n",
      "  [[ 4  5]\n",
      "   [ 6  7]]\n",
      "\n",
      "  [[ 5  6]\n",
      "   [ 7  8]]\n",
      "\n",
      "  [[ 6  7]\n",
      "   [ 8  9]]\n",
      "\n",
      "  [[ 7  8]\n",
      "   [ 9 10]]\n",
      "\n",
      "  [[ 8  9]\n",
      "   [10 11]]\n",
      "\n",
      "  [[ 9 10]\n",
      "   [11 12]]\n",
      "\n",
      "  [[10 11]\n",
      "   [12 13]]\n",
      "\n",
      "  [[11 12]\n",
      "   [13 14]]\n",
      "\n",
      "  [[12 13]\n",
      "   [14 15]]\n",
      "\n",
      "  [[13 14]\n",
      "   [15 16]]\n",
      "\n",
      "  [[14 15]\n",
      "   [16 17]]\n",
      "\n",
      "  [[15 16]\n",
      "   [17 18]]\n",
      "\n",
      "  [[16 17]\n",
      "   [18 19]]\n",
      "\n",
      "  [[17 18]\n",
      "   [19 20]]\n",
      "\n",
      "  [[18 19]\n",
      "   [20 21]]\n",
      "\n",
      "  [[19 20]\n",
      "   [21 22]]\n",
      "\n",
      "  [[20 21]\n",
      "   [22 23]]\n",
      "\n",
      "  [[21 22]\n",
      "   [23 24]]\n",
      "\n",
      "  [[22 23]\n",
      "   [24 25]]\n",
      "\n",
      "  [[23 24]\n",
      "   [25 26]]]\n",
      "\n",
      "\n",
      " [[[24 25]\n",
      "   [26 27]]\n",
      "\n",
      "  [[25 26]\n",
      "   [27 28]]\n",
      "\n",
      "  [[26 27]\n",
      "   [28 29]]\n",
      "\n",
      "  [[27 28]\n",
      "   [29 30]]\n",
      "\n",
      "  [[28 29]\n",
      "   [30 31]]\n",
      "\n",
      "  [[29 30]\n",
      "   [31 32]]\n",
      "\n",
      "  [[30 31]\n",
      "   [32 33]]\n",
      "\n",
      "  [[31 32]\n",
      "   [33 34]]\n",
      "\n",
      "  [[32 33]\n",
      "   [34 35]]\n",
      "\n",
      "  [[33 34]\n",
      "   [35 36]]\n",
      "\n",
      "  [[34 35]\n",
      "   [36 37]]\n",
      "\n",
      "  [[35 36]\n",
      "   [37 38]]\n",
      "\n",
      "  [[36 37]\n",
      "   [38 39]]\n",
      "\n",
      "  [[37 38]\n",
      "   [39 40]]\n",
      "\n",
      "  [[38 39]\n",
      "   [40 41]]\n",
      "\n",
      "  [[39 40]\n",
      "   [41 42]]\n",
      "\n",
      "  [[40 41]\n",
      "   [42 43]]\n",
      "\n",
      "  [[41 42]\n",
      "   [43 44]]\n",
      "\n",
      "  [[42 43]\n",
      "   [44 45]]\n",
      "\n",
      "  [[43 44]\n",
      "   [45 46]]\n",
      "\n",
      "  [[44 45]\n",
      "   [46 47]]\n",
      "\n",
      "  [[45 46]\n",
      "   [47 48]]\n",
      "\n",
      "  [[46 47]\n",
      "   [48 49]]\n",
      "\n",
      "  [[47 48]\n",
      "   [49 50]]]], shape=(2, 24, 2, 2), dtype=int64)\n",
      "--\n"
     ]
    }
   ],
   "source": [
    "for batch in x3:\n",
    "    print(batch)\n",
    "    print('--')"
   ]
  },
  {
   "cell_type": "code",
   "execution_count": 29,
   "id": "e20a2c66",
   "metadata": {},
   "outputs": [],
   "source": [
    "les = pd.read_csv('2006Fall_2017Spring_GOES_meteo_combined.csv/2006Fall_2017Spring_GOES_meteo_combined.csv')"
   ]
  },
  {
   "cell_type": "code",
   "execution_count": 30,
   "id": "a0edf9b0",
   "metadata": {},
   "outputs": [
    {
     "data": {
      "text/plain": [
       "Index(['Date_UTC', 'Time_UTC', 'Date_CST', 'Time_CST', 'File_name_for_1D_lake',\n",
       "       'File_name_for_2D_lake', 'Lake_data_1D', 'Lake_data_2D', 'Temp (F)',\n",
       "       'RH (%)', 'Dewpt (F)', 'Wind Spd (mph)', 'Wind Direction (deg)',\n",
       "       'Peak Wind Gust(mph)', 'Low Cloud Ht (ft)', 'Med Cloud Ht (ft)',\n",
       "       'High Cloud Ht (ft)', 'Visibility (mi)', 'Atm Press (hPa)',\n",
       "       'Sea Lev Press (hPa)', 'Altimeter (hPa)', 'Precip (in)',\n",
       "       'Wind Chill (F)', 'Heat Index (F)'],\n",
       "      dtype='object')"
      ]
     },
     "execution_count": 30,
     "metadata": {},
     "output_type": "execute_result"
    }
   ],
   "source": [
    "les.columns"
   ]
  },
  {
   "cell_type": "code",
   "execution_count": 31,
   "id": "d9e257f4",
   "metadata": {},
   "outputs": [
    {
     "data": {
      "text/html": [
       "<div>\n",
       "<style scoped>\n",
       "    .dataframe tbody tr th:only-of-type {\n",
       "        vertical-align: middle;\n",
       "    }\n",
       "\n",
       "    .dataframe tbody tr th {\n",
       "        vertical-align: top;\n",
       "    }\n",
       "\n",
       "    .dataframe thead th {\n",
       "        text-align: right;\n",
       "    }\n",
       "</style>\n",
       "<table border=\"1\" class=\"dataframe\">\n",
       "  <thead>\n",
       "    <tr style=\"text-align: right;\">\n",
       "      <th></th>\n",
       "      <th>Date_UTC</th>\n",
       "      <th>Time_UTC</th>\n",
       "      <th>Date_CST</th>\n",
       "      <th>Time_CST</th>\n",
       "      <th>File_name_for_1D_lake</th>\n",
       "      <th>File_name_for_2D_lake</th>\n",
       "      <th>Lake_data_1D</th>\n",
       "      <th>Lake_data_2D</th>\n",
       "      <th>Temp_F</th>\n",
       "      <th>RH_pct</th>\n",
       "      <th>...</th>\n",
       "      <th>Low_Cloud_Ht_ft</th>\n",
       "      <th>Med_Cloud_Ht_ft</th>\n",
       "      <th>High_Cloud_Ht_ft</th>\n",
       "      <th>Visibility_mi</th>\n",
       "      <th>Atm_Press_hPa</th>\n",
       "      <th>Sea_Lev_Press_hPa</th>\n",
       "      <th>Altimeter_hPa</th>\n",
       "      <th>Precip_in</th>\n",
       "      <th>Wind_Chill_F</th>\n",
       "      <th>Heat_Index_F</th>\n",
       "    </tr>\n",
       "  </thead>\n",
       "  <tbody>\n",
       "    <tr>\n",
       "      <th>0</th>\n",
       "      <td>2006-10-01</td>\n",
       "      <td>00:00</td>\n",
       "      <td>2006-09-30</td>\n",
       "      <td>00:00</td>\n",
       "      <td>goes11.2006.10.01.0000.v01.nc-var1-t0.csv</td>\n",
       "      <td>T_goes11.2006.10.01.0000.v01.nc-var1-t0.csv.csv</td>\n",
       "      <td>[0.0075, 0.0025, 0.0, 0.005, 0.0, 0.005, nan, ...</td>\n",
       "      <td>[array([   nan,    nan,    nan,    nan,    nan...</td>\n",
       "      <td>48</td>\n",
       "      <td>86</td>\n",
       "      <td>...</td>\n",
       "      <td>4100</td>\n",
       "      <td>4800</td>\n",
       "      <td>7000</td>\n",
       "      <td>10</td>\n",
       "      <td>984.0</td>\n",
       "      <td>1007.00</td>\n",
       "      <td>1006.80</td>\n",
       "      <td>0.00</td>\n",
       "      <td>45</td>\n",
       "      <td>NC</td>\n",
       "    </tr>\n",
       "    <tr>\n",
       "      <th>1</th>\n",
       "      <td>2006-10-01</td>\n",
       "      <td>01:00</td>\n",
       "      <td>2006-09-30</td>\n",
       "      <td>01:00</td>\n",
       "      <td>goes11.2006.10.01.0100.v01.nc-var1-t0.csv</td>\n",
       "      <td>T_goes11.2006.10.01.0100.v01.nc-var1-t0.csv.csv</td>\n",
       "      <td>[0.0025, nan, 0.0025, 0.0025, nan, 0.0, nan, 0...</td>\n",
       "      <td>[array([   nan,    nan,    nan,    nan,    nan...</td>\n",
       "      <td>48</td>\n",
       "      <td>86</td>\n",
       "      <td>...</td>\n",
       "      <td>6000</td>\n",
       "      <td>m</td>\n",
       "      <td>m</td>\n",
       "      <td>10</td>\n",
       "      <td>983.7</td>\n",
       "      <td>1006.50</td>\n",
       "      <td>1006.40</td>\n",
       "      <td>0.00</td>\n",
       "      <td>44</td>\n",
       "      <td>NC</td>\n",
       "    </tr>\n",
       "    <tr>\n",
       "      <th>2</th>\n",
       "      <td>2006-10-01</td>\n",
       "      <td>02:00</td>\n",
       "      <td>2006-09-30</td>\n",
       "      <td>02:00</td>\n",
       "      <td>goes11.2006.10.01.0200.v01.nc-var1-t0.csv</td>\n",
       "      <td>T_goes11.2006.10.01.0200.v01.nc-var1-t0.csv.csv</td>\n",
       "      <td>[0.0, nan, 0.0075, nan, nan, 0.0025, nan, nan,...</td>\n",
       "      <td>[array([nan, nan, nan, nan, nan, nan, nan, nan...</td>\n",
       "      <td>48</td>\n",
       "      <td>86</td>\n",
       "      <td>...</td>\n",
       "      <td>5500</td>\n",
       "      <td>11000</td>\n",
       "      <td>m</td>\n",
       "      <td>10</td>\n",
       "      <td>982.7</td>\n",
       "      <td>1005.70</td>\n",
       "      <td>1005.40</td>\n",
       "      <td>0.00</td>\n",
       "      <td>45</td>\n",
       "      <td>NC</td>\n",
       "    </tr>\n",
       "    <tr>\n",
       "      <th>3</th>\n",
       "      <td>2006-10-01</td>\n",
       "      <td>03:00</td>\n",
       "      <td>2006-09-30</td>\n",
       "      <td>03:00</td>\n",
       "      <td>goes11.2006.10.01.0300.v01.nc-var1-t0.csv</td>\n",
       "      <td>T_goes11.2006.10.01.0300.v01.nc-var1-t0.csv.csv</td>\n",
       "      <td>[0.0025, nan, 0.0025, 0.0, 0.0075, nan, 0.005,...</td>\n",
       "      <td>[array([nan, nan, nan, nan, nan, nan, nan, nan...</td>\n",
       "      <td>48</td>\n",
       "      <td>86</td>\n",
       "      <td>...</td>\n",
       "      <td>6000</td>\n",
       "      <td>m</td>\n",
       "      <td>m</td>\n",
       "      <td>10</td>\n",
       "      <td>982.0</td>\n",
       "      <td>1005.10</td>\n",
       "      <td>1004.70</td>\n",
       "      <td>0.00</td>\n",
       "      <td>44</td>\n",
       "      <td>NC</td>\n",
       "    </tr>\n",
       "    <tr>\n",
       "      <th>4</th>\n",
       "      <td>2006-10-01</td>\n",
       "      <td>04:00</td>\n",
       "      <td>2006-09-30</td>\n",
       "      <td>04:00</td>\n",
       "      <td>goes11.2006.10.01.0400.v01.nc-var1-t0.csv</td>\n",
       "      <td>T_goes11.2006.10.01.0400.v01.nc-var1-t0.csv.csv</td>\n",
       "      <td>[0.0025, nan, 0.0, nan, 0.0075, 0.0, nan, nan,...</td>\n",
       "      <td>[array([   nan,    nan,    nan,    nan,    nan...</td>\n",
       "      <td>48</td>\n",
       "      <td>89</td>\n",
       "      <td>...</td>\n",
       "      <td>2200</td>\n",
       "      <td>3500</td>\n",
       "      <td>m</td>\n",
       "      <td>8</td>\n",
       "      <td>982.0</td>\n",
       "      <td>1004.90</td>\n",
       "      <td>1004.70</td>\n",
       "      <td>0.02</td>\n",
       "      <td>46</td>\n",
       "      <td>NC</td>\n",
       "    </tr>\n",
       "  </tbody>\n",
       "</table>\n",
       "<p>5 rows × 24 columns</p>\n",
       "</div>"
      ],
      "text/plain": [
       "     Date_UTC Time_UTC    Date_CST Time_CST  \\\n",
       "0  2006-10-01    00:00  2006-09-30    00:00   \n",
       "1  2006-10-01    01:00  2006-09-30    01:00   \n",
       "2  2006-10-01    02:00  2006-09-30    02:00   \n",
       "3  2006-10-01    03:00  2006-09-30    03:00   \n",
       "4  2006-10-01    04:00  2006-09-30    04:00   \n",
       "\n",
       "                       File_name_for_1D_lake  \\\n",
       "0  goes11.2006.10.01.0000.v01.nc-var1-t0.csv   \n",
       "1  goes11.2006.10.01.0100.v01.nc-var1-t0.csv   \n",
       "2  goes11.2006.10.01.0200.v01.nc-var1-t0.csv   \n",
       "3  goes11.2006.10.01.0300.v01.nc-var1-t0.csv   \n",
       "4  goes11.2006.10.01.0400.v01.nc-var1-t0.csv   \n",
       "\n",
       "                             File_name_for_2D_lake  \\\n",
       "0  T_goes11.2006.10.01.0000.v01.nc-var1-t0.csv.csv   \n",
       "1  T_goes11.2006.10.01.0100.v01.nc-var1-t0.csv.csv   \n",
       "2  T_goes11.2006.10.01.0200.v01.nc-var1-t0.csv.csv   \n",
       "3  T_goes11.2006.10.01.0300.v01.nc-var1-t0.csv.csv   \n",
       "4  T_goes11.2006.10.01.0400.v01.nc-var1-t0.csv.csv   \n",
       "\n",
       "                                        Lake_data_1D  \\\n",
       "0  [0.0075, 0.0025, 0.0, 0.005, 0.0, 0.005, nan, ...   \n",
       "1  [0.0025, nan, 0.0025, 0.0025, nan, 0.0, nan, 0...   \n",
       "2  [0.0, nan, 0.0075, nan, nan, 0.0025, nan, nan,...   \n",
       "3  [0.0025, nan, 0.0025, 0.0, 0.0075, nan, 0.005,...   \n",
       "4  [0.0025, nan, 0.0, nan, 0.0075, 0.0, nan, nan,...   \n",
       "\n",
       "                                        Lake_data_2D Temp_F RH_pct  ...  \\\n",
       "0  [array([   nan,    nan,    nan,    nan,    nan...     48     86  ...   \n",
       "1  [array([   nan,    nan,    nan,    nan,    nan...     48     86  ...   \n",
       "2  [array([nan, nan, nan, nan, nan, nan, nan, nan...     48     86  ...   \n",
       "3  [array([nan, nan, nan, nan, nan, nan, nan, nan...     48     86  ...   \n",
       "4  [array([   nan,    nan,    nan,    nan,    nan...     48     89  ...   \n",
       "\n",
       "  Low_Cloud_Ht_ft Med_Cloud_Ht_ft High_Cloud_Ht_ft Visibility_mi  \\\n",
       "0            4100            4800             7000            10   \n",
       "1            6000               m                m            10   \n",
       "2            5500           11000                m            10   \n",
       "3            6000               m                m            10   \n",
       "4            2200            3500                m             8   \n",
       "\n",
       "  Atm_Press_hPa Sea_Lev_Press_hPa Altimeter_hPa Precip_in Wind_Chill_F  \\\n",
       "0         984.0           1007.00       1006.80      0.00           45   \n",
       "1         983.7           1006.50       1006.40      0.00           44   \n",
       "2         982.7           1005.70       1005.40      0.00           45   \n",
       "3         982.0           1005.10       1004.70      0.00           44   \n",
       "4         982.0           1004.90       1004.70      0.02           46   \n",
       "\n",
       "  Heat_Index_F  \n",
       "0           NC  \n",
       "1           NC  \n",
       "2           NC  \n",
       "3           NC  \n",
       "4           NC  \n",
       "\n",
       "[5 rows x 24 columns]"
      ]
     },
     "execution_count": 31,
     "metadata": {},
     "output_type": "execute_result"
    }
   ],
   "source": [
    "les.rename(columns={ \"Temp (F)\": \"Temp_F\", \"RH (%)\": \"RH_pct\",\n",
    "                   \"Dewpt (F)\" : \"Dewpt_F\", \"Wind Spd (mph)\" : \"Wind_Spd_mph\",\n",
    "                   \"Wind Direction (deg)\" : \"Wind_Direction_deg\", \"Peak Wind Gust(mph)\" : \"Peak_Wind_Gust_mph\",\n",
    "                   \"Low Cloud Ht (ft)\" : \"Low_Cloud_Ht_ft\", \"Med Cloud Ht (ft)\" : \"Med_Cloud_Ht_ft\",\n",
    "                   \"High Cloud Ht (ft)\" : \"High_Cloud_Ht_ft\", \"Visibility (mi)\" : \"Visibility_mi\",\n",
    "                   \"Atm Press (hPa)\" : \"Atm_Press_hPa\", \"Sea Lev Press (hPa)\" : \"Sea_Lev_Press_hPa\",\n",
    "                   \"Altimeter (hPa)\" : \"Altimeter_hPa\", \"Precip (in)\" : \"Precip_in\",\n",
    "                   \"Wind Chill (F)\" : \"Wind_Chill_F\", \"Heat Index (F)\" : \"Heat_Index_F\",\n",
    "                   } , inplace = True)\n",
    "\n",
    "les.head()"
   ]
  },
  {
   "cell_type": "code",
   "execution_count": 32,
   "id": "0d37cb1b",
   "metadata": {},
   "outputs": [],
   "source": [
    "meteo_les=les.copy()"
   ]
  },
  {
   "cell_type": "code",
   "execution_count": 33,
   "id": "881dd7b3",
   "metadata": {},
   "outputs": [],
   "source": [
    "meteo_les = meteo_les.drop(\n",
    "    [ 'Date_UTC', 'Time_UTC', 'Date_CST', 'Time_CST', 'File_name_for_1D_lake', 'File_name_for_2D_lake', \n",
    "     'Lake_data_1D', 'Lake_data_2D', 'Dewpt_F', 'Peak_Wind_Gust_mph', 'Altimeter_hPa', 'Heat_Index_F','Wind_Chill_F' ], axis=1)"
   ]
  },
  {
   "cell_type": "code",
   "execution_count": 34,
   "id": "f53fdc25",
   "metadata": {},
   "outputs": [],
   "source": [
    "meteo_les = meteo_les.replace(['m', 'M'], '0')"
   ]
  },
  {
   "cell_type": "code",
   "execution_count": 35,
   "id": "9454711f",
   "metadata": {},
   "outputs": [
    {
     "data": {
      "text/html": [
       "<div>\n",
       "<style scoped>\n",
       "    .dataframe tbody tr th:only-of-type {\n",
       "        vertical-align: middle;\n",
       "    }\n",
       "\n",
       "    .dataframe tbody tr th {\n",
       "        vertical-align: top;\n",
       "    }\n",
       "\n",
       "    .dataframe thead th {\n",
       "        text-align: right;\n",
       "    }\n",
       "</style>\n",
       "<table border=\"1\" class=\"dataframe\">\n",
       "  <thead>\n",
       "    <tr style=\"text-align: right;\">\n",
       "      <th></th>\n",
       "      <th>Temp_F</th>\n",
       "      <th>RH_pct</th>\n",
       "      <th>Wind_Spd_mph</th>\n",
       "      <th>Wind_Direction_deg</th>\n",
       "      <th>Low_Cloud_Ht_ft</th>\n",
       "      <th>Med_Cloud_Ht_ft</th>\n",
       "      <th>High_Cloud_Ht_ft</th>\n",
       "      <th>Visibility_mi</th>\n",
       "      <th>Atm_Press_hPa</th>\n",
       "      <th>Sea_Lev_Press_hPa</th>\n",
       "      <th>Precip_in</th>\n",
       "    </tr>\n",
       "  </thead>\n",
       "  <tbody>\n",
       "    <tr>\n",
       "      <th>0</th>\n",
       "      <td>48</td>\n",
       "      <td>86</td>\n",
       "      <td>7</td>\n",
       "      <td>150</td>\n",
       "      <td>4100</td>\n",
       "      <td>4800</td>\n",
       "      <td>7000</td>\n",
       "      <td>10</td>\n",
       "      <td>984.0</td>\n",
       "      <td>1007.00</td>\n",
       "      <td>0.00</td>\n",
       "    </tr>\n",
       "    <tr>\n",
       "      <th>1</th>\n",
       "      <td>48</td>\n",
       "      <td>86</td>\n",
       "      <td>8</td>\n",
       "      <td>150</td>\n",
       "      <td>6000</td>\n",
       "      <td>0</td>\n",
       "      <td>0</td>\n",
       "      <td>10</td>\n",
       "      <td>983.7</td>\n",
       "      <td>1006.50</td>\n",
       "      <td>0.00</td>\n",
       "    </tr>\n",
       "    <tr>\n",
       "      <th>2</th>\n",
       "      <td>48</td>\n",
       "      <td>86</td>\n",
       "      <td>6</td>\n",
       "      <td>0</td>\n",
       "      <td>5500</td>\n",
       "      <td>11000</td>\n",
       "      <td>0</td>\n",
       "      <td>10</td>\n",
       "      <td>982.7</td>\n",
       "      <td>1005.70</td>\n",
       "      <td>0.00</td>\n",
       "    </tr>\n",
       "    <tr>\n",
       "      <th>3</th>\n",
       "      <td>48</td>\n",
       "      <td>86</td>\n",
       "      <td>8</td>\n",
       "      <td>150</td>\n",
       "      <td>6000</td>\n",
       "      <td>0</td>\n",
       "      <td>0</td>\n",
       "      <td>10</td>\n",
       "      <td>982.0</td>\n",
       "      <td>1005.10</td>\n",
       "      <td>0.00</td>\n",
       "    </tr>\n",
       "    <tr>\n",
       "      <th>4</th>\n",
       "      <td>48</td>\n",
       "      <td>89</td>\n",
       "      <td>5</td>\n",
       "      <td>0</td>\n",
       "      <td>2200</td>\n",
       "      <td>3500</td>\n",
       "      <td>0</td>\n",
       "      <td>8</td>\n",
       "      <td>982.0</td>\n",
       "      <td>1004.90</td>\n",
       "      <td>0.02</td>\n",
       "    </tr>\n",
       "  </tbody>\n",
       "</table>\n",
       "</div>"
      ],
      "text/plain": [
       "  Temp_F RH_pct Wind_Spd_mph Wind_Direction_deg Low_Cloud_Ht_ft  \\\n",
       "0     48     86            7                150            4100   \n",
       "1     48     86            8                150            6000   \n",
       "2     48     86            6                  0            5500   \n",
       "3     48     86            8                150            6000   \n",
       "4     48     89            5                  0            2200   \n",
       "\n",
       "  Med_Cloud_Ht_ft High_Cloud_Ht_ft Visibility_mi Atm_Press_hPa  \\\n",
       "0            4800             7000            10         984.0   \n",
       "1               0                0            10         983.7   \n",
       "2           11000                0            10         982.7   \n",
       "3               0                0            10         982.0   \n",
       "4            3500                0             8         982.0   \n",
       "\n",
       "  Sea_Lev_Press_hPa Precip_in  \n",
       "0           1007.00      0.00  \n",
       "1           1006.50      0.00  \n",
       "2           1005.70      0.00  \n",
       "3           1005.10      0.00  \n",
       "4           1004.90      0.02  "
      ]
     },
     "execution_count": 35,
     "metadata": {},
     "output_type": "execute_result"
    }
   ],
   "source": [
    "meteo_les.head()"
   ]
  },
  {
   "cell_type": "code",
   "execution_count": 36,
   "id": "cc96fe77",
   "metadata": {},
   "outputs": [],
   "source": [
    "meteo_les = meteo_les.dropna()"
   ]
  },
  {
   "cell_type": "code",
   "execution_count": 37,
   "id": "86084327",
   "metadata": {},
   "outputs": [
    {
     "name": "stdout",
     "output_type": "stream",
     "text": [
      "<class 'pandas.core.frame.DataFrame'>\n",
      "Index: 47882 entries, 0 to 48120\n",
      "Data columns (total 11 columns):\n",
      " #   Column              Non-Null Count  Dtype \n",
      "---  ------              --------------  ----- \n",
      " 0   Temp_F              47882 non-null  object\n",
      " 1   RH_pct              47882 non-null  object\n",
      " 2   Wind_Spd_mph        47882 non-null  object\n",
      " 3   Wind_Direction_deg  47882 non-null  object\n",
      " 4   Low_Cloud_Ht_ft     47882 non-null  object\n",
      " 5   Med_Cloud_Ht_ft     47882 non-null  object\n",
      " 6   High_Cloud_Ht_ft    47882 non-null  object\n",
      " 7   Visibility_mi       47882 non-null  object\n",
      " 8   Atm_Press_hPa       47882 non-null  object\n",
      " 9   Sea_Lev_Press_hPa   47882 non-null  object\n",
      " 10  Precip_in           47882 non-null  object\n",
      "dtypes: object(11)\n",
      "memory usage: 4.4+ MB\n"
     ]
    }
   ],
   "source": [
    "meteo_les.info()"
   ]
  },
  {
   "cell_type": "code",
   "execution_count": 38,
   "id": "c1eb14b6",
   "metadata": {},
   "outputs": [],
   "source": [
    "columns_to_convert = ['RH_pct', 'Wind_Spd_mph', 'Wind_Direction_deg', 'Low_Cloud_Ht_ft', 'Med_Cloud_Ht_ft',\n",
    "                       'High_Cloud_Ht_ft', 'Visibility_mi', 'Atm_Press_hPa', 'Sea_Lev_Press_hPa', 'Precip_in']\n",
    "\n",
    "# Convert specified columns to numeric\n",
    "meteo_les[columns_to_convert] = meteo_les[columns_to_convert].apply(pd.to_numeric, errors='coerce')\n"
   ]
  },
  {
   "cell_type": "code",
   "execution_count": 39,
   "id": "06368b48",
   "metadata": {},
   "outputs": [
    {
     "name": "stdout",
     "output_type": "stream",
     "text": [
      "Temp_F                 object\n",
      "RH_pct                float64\n",
      "Wind_Spd_mph            int64\n",
      "Wind_Direction_deg      int64\n",
      "Low_Cloud_Ht_ft         int64\n",
      "Med_Cloud_Ht_ft         int64\n",
      "High_Cloud_Ht_ft        int64\n",
      "Visibility_mi           int64\n",
      "Atm_Press_hPa         float64\n",
      "Sea_Lev_Press_hPa     float64\n",
      "Precip_in             float64\n",
      "dtype: object\n"
     ]
    }
   ],
   "source": [
    "len(meteo_les)\n",
    "print(meteo_les.dtypes)"
   ]
  },
  {
   "cell_type": "code",
   "execution_count": 40,
   "id": "06ae0c80",
   "metadata": {},
   "outputs": [],
   "source": [
    "meteo_les['Temp_F'] = pd.to_numeric(meteo_les['Temp_F'], errors='coerce')\n",
    "#print(meteo_les.isnull().sum())  # For NaN values\n",
    "\n",
    "# Step 2: Handle these values\n",
    "# For example, fill NaNs with 0\n",
    "#meteo_les = meteo_les.fillna(0)\n",
    "\n",
    "x3 = tf.keras.preprocessing.timeseries_dataset_from_array(meteo_les, None, 24, sequence_stride=24, sampling_rate=1, \n",
    "                                                          batch_size=50000)"
   ]
  },
  {
   "cell_type": "code",
   "execution_count": 41,
   "id": "78d8af94",
   "metadata": {},
   "outputs": [
    {
     "name": "stdout",
     "output_type": "stream",
     "text": [
      "(1995, 24, 11)\n",
      "--\n"
     ]
    }
   ],
   "source": [
    "for batch in x3:\n",
    "    print(batch.shape)\n",
    "    print('--')"
   ]
  },
  {
   "cell_type": "code",
   "execution_count": 42,
   "id": "91c583d1",
   "metadata": {},
   "outputs": [],
   "source": [
    "meteo_train_batched = tf.keras.preprocessing.timeseries_dataset_from_array(meteo_les[0:30000], None, 24, sequence_stride=24, \n",
    "                                                                   sampling_rate=1, batch_size=30000)"
   ]
  },
  {
   "cell_type": "code",
   "execution_count": 43,
   "id": "8344c5f3",
   "metadata": {},
   "outputs": [
    {
     "name": "stdout",
     "output_type": "stream",
     "text": [
      "(1250, 24, 11)\n",
      "--\n"
     ]
    }
   ],
   "source": [
    "meteo_train = None\n",
    "for batch in meteo_train_batched:\n",
    "    meteo_train = batch\n",
    "    print(meteo_train.shape)\n",
    "    print('--')"
   ]
  },
  {
   "cell_type": "code",
   "execution_count": 44,
   "id": "f5ebc4af",
   "metadata": {},
   "outputs": [],
   "source": [
    "meteo_val_batched = tf.keras.preprocessing.timeseries_dataset_from_array(meteo_les[:7500], None, 24, sequence_stride=24, \n",
    "                                                                   sampling_rate=1, batch_size=7500)"
   ]
  },
  {
   "cell_type": "code",
   "execution_count": 45,
   "id": "d27c4a92",
   "metadata": {},
   "outputs": [
    {
     "name": "stdout",
     "output_type": "stream",
     "text": [
      "(312, 24, 11)\n",
      "--\n"
     ]
    }
   ],
   "source": [
    "meteo_val = None\n",
    "for batch in meteo_val_batched:\n",
    "    meteo_val = batch\n",
    "    print(meteo_val.shape)\n",
    "    print('--')"
   ]
  },
  {
   "cell_type": "code",
   "execution_count": 46,
   "id": "fa388b5c",
   "metadata": {},
   "outputs": [],
   "source": [
    "cloud_train_batched = tf.keras.preprocessing.timeseries_dataset_from_array(images[:10000], None, 8, sequence_stride=8, \n",
    "                                                                           sampling_rate=1, batch_size=10000)"
   ]
  },
  {
   "cell_type": "code",
   "execution_count": 47,
   "id": "00e915ff",
   "metadata": {},
   "outputs": [
    {
     "name": "stdout",
     "output_type": "stream",
     "text": [
      "(1250, 8, 48, 48, 1)\n",
      "--\n"
     ]
    }
   ],
   "source": [
    "cloud_train = None\n",
    "for batch in cloud_train_batched:\n",
    "    cloud_train = batch\n",
    "    cloud_train = np.expand_dims(cloud_train, axis=-1)\n",
    "    print(cloud_train.shape)\n",
    "    cloud_train = cloud_train / 255\n",
    "    print('--')"
   ]
  },
  {
   "cell_type": "code",
   "execution_count": 48,
   "id": "bd1b04a9",
   "metadata": {},
   "outputs": [],
   "source": [
    "cloud_val_batched = tf.keras.preprocessing.timeseries_dataset_from_array(images[:2500], None, 8, sequence_stride=8, \n",
    "                                                                         sampling_rate=1, batch_size=2500)"
   ]
  },
  {
   "cell_type": "code",
   "execution_count": 49,
   "id": "fe7b17c5",
   "metadata": {},
   "outputs": [
    {
     "name": "stdout",
     "output_type": "stream",
     "text": [
      "(312, 8, 48, 48, 1)\n",
      "--\n"
     ]
    }
   ],
   "source": [
    "cloud_val = None\n",
    "for batch in cloud_val_batched:\n",
    "    cloud_val = batch\n",
    "    cloud_val = np.expand_dims(cloud_val, axis=-1)\n",
    "    print(cloud_val.shape)\n",
    "    cloud_val = cloud_val / 255\n",
    "    print('--')"
   ]
  },
  {
   "cell_type": "code",
   "execution_count": 50,
   "id": "788c5508",
   "metadata": {},
   "outputs": [
    {
     "name": "stdout",
     "output_type": "stream",
     "text": [
      "(1250, 24, 11)\n",
      "--\n",
      "[[  51.    79.     5.  ...  994.  1017.     0. ]\n",
      " [  66.    75.     3.  ...  990.7 1013.4    0. ]\n",
      " [  60.   100.     7.  ...  989.7 1012.5    1.4]\n",
      " ...\n",
      " [  48.    67.    17.  ...  985.7 1008.6    0. ]\n",
      " [  46.    65.     6.  ...  992.3 1015.6    0. ]\n",
      " [  42.    59.     0.  ...  998.3 1021.8    0. ]]\n"
     ]
    }
   ],
   "source": [
    "meteo_train = None\n",
    "for batch in meteo_train_batched:\n",
    "    meteo_train = batch\n",
    "    print(meteo_train.shape)\n",
    "    print('--')\n",
    "\n",
    "    # Convert the last column to a NumPy array\n",
    "    last_column_numeric = meteo_train.numpy()[:, -1]\n",
    "\n",
    "    # Print the numeric values\n",
    "    print(last_column_numeric)\n"
   ]
  },
  {
   "cell_type": "code",
   "execution_count": 51,
   "id": "a3742b05",
   "metadata": {},
   "outputs": [
    {
     "data": {
      "text/plain": [
       "TensorShape([1250, 24, 11])"
      ]
     },
     "execution_count": 51,
     "metadata": {},
     "output_type": "execute_result"
    }
   ],
   "source": [
    "meteo_train.shape"
   ]
  },
  {
   "cell_type": "code",
   "execution_count": 52,
   "id": "1bc85290",
   "metadata": {},
   "outputs": [],
   "source": [
    "rain_train = []  \n",
    "\n",
    "for batch in meteo_train:\n",
    "    # Convert the entire batch to a NumPy array\n",
    "    batch_numpy = batch.numpy()\n",
    "\n",
    "    # Sum the values in the last column\n",
    "    last_column_sum = tf.reduce_sum(batch_numpy[:, -1])\n",
    "\n",
    "    # Append the sum to the list\n",
    "    rain_train.append(last_column_sum.numpy())"
   ]
  },
  {
   "cell_type": "code",
   "execution_count": 53,
   "id": "c9de80eb",
   "metadata": {},
   "outputs": [
    {
     "data": {
      "text/plain": [
       "1250"
      ]
     },
     "execution_count": 53,
     "metadata": {},
     "output_type": "execute_result"
    }
   ],
   "source": [
    "len(rain_train)"
   ]
  },
  {
   "cell_type": "code",
   "execution_count": 54,
   "id": "59973081",
   "metadata": {},
   "outputs": [
    {
     "name": "stdout",
     "output_type": "stream",
     "text": [
      "[0.03, 0.01, 2.0199999999999996, 0.01, 0.33999999999999997, 0.0, 0.0, 0.0, 0.0, 0.05, 0.35000000000000003, 0.25, 0.30000000000000004, 0.14, 0.01, 0.04, 0.34, 0.23, 0.09, 0.0, 0.24, 0.11, 0.48000000000000004, 0.04, 0.02, 0.0, 0.0, 0.24, 0.18, 0.0, 0.0, 0.0, 0.0, 0.0, 0.0, 0.0, 0.0, 0.0, 0.0, 0.0, 0.23, 0.0, 0.0, 0.04, 0.0, 0.0, 0.0, 0.0, 0.01, 0.09, 0.13, 0.0, 0.0, 0.0, 0.0, 0.0, 0.0, 0.05, 0.11000000000000001, 0.34, 0.0, 0.6200000000000001, 0.01, 0.04, 0.0, 0.01, 0.01, 0.03, 0.0, 0.0, 0.0, 0.03, 0.12000000000000001, 0.01, 0.07, 0.05, 0.0, 0.0, 0.0, 0.0, 0.0, 0.060000000000000005, 0.51, 0.09, 0.11000000000000001, 0.0, 0.02, 0.01, 0.05, 0.0, 0.0, 0.14, 0.03, 0.02, 0.0, 0.0, 0.0, 0.0, 0.05, 0.01, 0.05, 0.0, 0.02, 0.01, 0.01, 0.01, 0.13, 0.13, 0.03, 0.01, 0.0, 0.0, 0.0, 0.0, 0.0, 0.0, 0.0, 0.03, 0.02, 0.0, 0.0, 0.0, 0.01, 0.0, 0.0, 0.01, 0.0, 0.0, 0.0, 0.0, 0.0, 0.0, 0.0, 0.0, 0.0, 0.0, 0.0, 0.02, 0.02, 0.01, 0.04, 0.0, 0.0, 0.02, 0.0, 0.08, 0.0, 0.05, 0.060000000000000005, 0.18, 0.0, 0.04, 0.02, 0.01, 0.0, 0.0, 0.060000000000000005, 0.01, 0.0, 0.05, 0.0, 0.03, 0.01, 0.06999999999999999, 0.0, 0.0, 0.0, 0.0, 0.0, 0.0, 0.05, 0.33, 0.01, 0.35, 0.0, 0.03, 0.01, 0.0, 0.0, 0.0, 0.0, 0.0, 0.12, 0.12, 0.02, 0.0, 0.0, 0.0, 0.0, 0.01, 0.26, 0.0, 0.0, 0.0, 0.0, 0.0, 0.09, 0.02, 0.0, 0.0, 0.03, 0.05, 0.0, 0.0, 0.0, 0.14, 0.04, 0.36000000000000004, 0.2, 0.02, 0.01, 0.01, 0.0, 0.0, 0.01, 0.0, 0.0, 0.0, 0.03, 0.0, 0.03, 0.03, 0.02, 0.0, 0.060000000000000005, 0.06999999999999999, 0.02, 0.34, 0.0, 0.14, 0.02, 0.02, 0.060000000000000005, 0.0, 0.08, 0.0, 0.44000000000000006, 0.0, 0.01, 0.0, 0.01, 0.0, 0.18, 0.07, 0.09999999999999999, 0.32, 0.01, 0.0, 0.03, 0.0, 0.03, 0.19, 0.15, 0.0, 0.05, 0.02, 0.33, 0.04, 0.09, 0.01, 0.01, 0.21, 0.0, 0.0, 0.08, 0.02, 0.15000000000000002, 0.0, 0.02, 0.9900000000000002, 0.12000000000000001, 0.16, 0.16000000000000003, 0.01, 0.01, 0.060000000000000005, 0.0, 0.02, 0.01, 0.0, 0.1, 0.03, 0.0, 0.0, 0.0, 0.08, 0.0, 0.25, 0.0, 0.0, 0.03, 0.0, 0.01, 0.0, 0.0, 0.0, 0.0, 0.0, 0.0, 0.0, 0.0, 0.0, 0.01, 0.0, 0.02, 0.0, 0.0, 0.01, 0.0, 0.0, 0.0, 0.0, 0.0, 0.03, 0.0, 0.35000000000000003, 0.04, 0.04, 0.01, 0.03, 0.0, 0.0, 0.14, 0.05, 0.0, 0.24000000000000002, 0.0, 0.01, 0.0, 0.12, 0.33999999999999997, 0.0, 0.01, 0.0, 0.0, 0.0, 0.0, 0.0, 0.0, 0.0, 0.7400000000000001, 0.0, 0.13, 0.03, 0.0, 0.0, 0.0, 0.0, 0.0, 0.0, 0.0, 0.0, 0.0, 0.0, 0.02, 0.0, 0.0, 0.01, 0.03, 0.0, 0.0, 0.1, 0.23, 0.09, 0.07, 0.06999999999999999, 0.11, 0.05, 0.16, 0.01, 0.0, 0.0, 0.0, 0.0, 0.0, 0.59, 0.01, 0.01, 0.02, 0.0, 0.5900000000000001, 0.0, 0.0, 0.01, 0.12000000000000001, 0.0, 0.03, 0.06, 0.03, 0.13999999999999999, 0.0, 0.09000000000000001, 0.04, 0.0, 0.03, 0.0, 0.0, 0.0, 0.0, 0.0, 0.0, 0.0, 0.04, 0.0, 0.0, 0.0, 0.0, 0.0, 0.0, 0.01, 0.0, 0.0, 0.0, 0.04, 0.0, 0.01, 0.0, 0.04, 0.01, 0.07, 0.01, 0.02, 0.28, 0.02, 0.25, 0.02, 0.0, 0.09, 0.10999999999999999, 0.0, 0.0, 0.0, 0.02, 0.08, 0.02, 0.01, 0.01, 0.02, 0.0, 0.0, 0.09999999999999999, 0.02, 0.12, 0.0, 0.0, 0.0, 0.0, 0.060000000000000005, 0.01, 0.08, 0.02, 0.07, 0.0, 0.0, 0.0, 0.01, 0.03, 0.0, 0.01, 0.0, 0.0, 0.0, 0.0, 0.0, 0.0, 0.43000000000000005, 0.26, 0.02, 0.0, 0.0, 0.0, 0.01, 0.02, 0.16, 0.0, 0.0, 0.01, 0.0, 0.0, 0.0, 0.19, 0.01, 0.12000000000000001, 0.02, 0.08, 0.0, 0.16999999999999998, 0.02, 0.01, 0.0, 0.01, 0.0, 0.01, 0.39999999999999997, 0.0, 0.0, 0.0, 0.0, 0.09, 0.0, 0.01, 0.01, 0.0, 0.0, 0.0, 0.0, 0.0, 0.0, 0.08, 0.0, 0.16, 0.19000000000000003, 0.0, 0.0, 0.11000000000000001, 0.24, 0.25, 0.0, 0.0, 0.0, 0.0, 0.02, 0.31, 0.0, 0.0, 0.0, 0.02, 0.01, 0.01, 0.0, 0.0, 0.0, 0.0, 0.01, 0.0, 0.0, 0.0, 0.0, 0.28, 0.11000000000000001, 0.03, 0.03, 0.0, 0.0, 0.1, 0.0, 0.0, 0.04, 0.0, 0.0, 0.0, 0.0, 0.0, 0.08, 0.01, 0.17, 0.11000000000000001, 0.03, 0.0, 0.0, 0.01, 0.44, 0.0, 0.07, 0.42000000000000004, 0.0, 0.0, 0.12, 0.08, 0.03, 0.04, 0.0, 0.15999999999999998, 0.0, 0.0, 0.0, 0.09, 0.0, 0.0, 0.0, 0.0, 0.19, 0.21000000000000002, 0.16, 0.05, 0.02, 0.0, 0.0, 0.01, 0.0, 0.01, 0.08, 0.09, 0.01, 0.0, 0.14, 0.14, 0.05, 0.01, 0.03, 0.0, 0.0, 0.0, 0.02, 0.03, 0.0, 0.01, 0.49000000000000005, 0.11, 0.08, 0.04, 0.03, 0.0, 0.01, 0.02, 0.0, 0.0, 0.02, 0.0, 0.0, 0.0, 0.05, 0.03, 0.0, 0.0, 0.0, 0.0, 0.02, 0.0, 0.07999999999999999, 0.02, 0.0, 0.0, 0.04, 0.24, 0.0, 0.01, 0.0, 0.09, 0.07, 0.02, 0.0, 0.0, 0.01, 0.9500000000000001, 0.86, 0.01, 0.16, 0.03, 0.1, 0.06999999999999999, 0.15000000000000002, 0.0, 0.01, 0.04, 0.0, 0.01, 0.0, 0.0, 0.01, 0.03, 0.03, 0.0, 0.01, 0.0, 0.01, 0.21000000000000002, 0.0, 0.01, 0.03, 0.060000000000000005, 0.0, 0.07, 0.0, 0.01, 0.02, 0.0, 0.02, 0.03, 0.02, 0.05, 0.0, 0.15999999999999998, 0.0, 0.0, 0.5299999999999999, 0.0, 0.02, 0.15000000000000002, 0.03, 0.0, 0.0, 0.0, 0.0, 0.0, 0.0, 0.0, 0.05, 0.0, 0.0, 0.17, 0.01, 0.0, 0.02, 0.0, 0.02, 0.0, 0.0, 0.0, 0.03, 0.02, 0.02, 0.0, 0.0, 0.0, 0.01, 0.03, 0.0, 0.0, 0.0, 0.0, 0.0, 0.16, 0.060000000000000005, 0.0, 0.0, 0.0, 0.0, 0.6, 0.0, 0.0, 1.0999999999999999, 0.06999999999999999, 1.7800000000000002, 0.060000000000000005, 0.22, 0.01, 0.0, 0.0, 0.0, 0.1, 0.0, 0.0, 0.22, 0.03, 0.060000000000000005, 0.19, 0.08, 0.29000000000000004, 0.01, 0.38, 0.04, 0.11000000000000001, 0.18, 0.13, 0.01, 0.0, 0.01, 0.02, 0.71, 0.08, 0.38, 0.03, 0.0, 0.01, 0.38, 0.29000000000000004, 0.0, 0.05, 0.26, 0.15, 0.18000000000000002, 0.0, 0.0, 0.0, 0.09, 1.47, 0.03, 0.0, 0.0, 0.01, 0.0, 0.09999999999999999, 0.0, 0.05, 0.08, 0.03, 0.01, 0.0, 0.0, 0.0, 0.0, 0.22000000000000003, 0.08, 0.0, 0.0, 0.0, 0.04, 0.02, 0.01, 0.0, 0.0, 0.0, 0.02, 0.0, 0.02, 0.060000000000000005, 0.0, 0.0, 0.05, 0.04, 0.18000000000000002, 0.05, 0.01, 0.01, 0.01, 0.01, 0.0, 0.02, 0.0, 0.0, 0.0, 0.01, 0.0, 0.02, 0.0, 0.0, 0.0, 0.0, 0.0, 0.12, 0.05, 0.04, 0.0, 0.3, 0.0, 0.02, 0.04, 0.0, 0.02, 0.02, 0.0, 0.05, 0.0, 0.12, 0.03, 0.02, 0.0, 0.01, 0.0, 0.06, 0.0, 0.06999999999999999, 0.0, 0.0, 0.0, 0.0, 0.0, 0.0, 0.0, 0.0, 0.0, 0.0, 0.0, 0.0, 0.0, 0.02, 0.01, 0.13, 0.0, 0.01, 0.05, 0.01, 0.0, 0.01, 0.0, 0.0, 0.0, 0.0, 0.01, 0.0, 0.01, 0.0, 0.01, 0.0, 0.0, 0.0, 0.0, 0.0, 0.0, 0.0, 0.0, 0.0, 0.1, 0.0, 0.0, 0.0, 0.0, 0.11, 0.0, 0.06999999999999999, 0.0, 0.0, 0.0, 0.0, 0.0, 0.0, 0.0, 0.18, 0.02, 0.0, 0.0, 0.0, 0.18000000000000002, 0.01, 0.04, 0.01, 0.06, 0.05, 0.18, 0.02, 0.0, 0.0, 0.0, 0.24, 0.03, 0.0, 0.0, 0.15, 0.11, 0.16999999999999998, 0.33, 0.02, 0.0, 0.0, 0.0, 0.0, 0.0, 0.30000000000000004, 0.0, 0.0, 0.0, 0.0, 0.23, 0.33, 0.09, 0.0, 0.0, 0.0, 0.33, 0.01, 0.0, 0.02, 0.0, 0.04, 0.0, 0.0, 0.21999999999999997, 0.73, 0.33, 0.0, 0.01, 0.22999999999999998, 0.01, 0.01, 0.0, 0.0, 0.0, 0.0, 0.0, 0.0, 0.0, 0.13, 0.06, 0.37, 0.45000000000000007, 0.29000000000000004, 0.19, 0.04, 0.0, 0.0, 0.0, 0.1, 0.01, 0.03, 0.0, 0.04, 0.05, 0.0, 0.06999999999999999, 0.16999999999999998, 0.07, 0.0, 0.0, 0.0, 0.04, 0.12, 0.01, 0.0, 0.0, 0.0, 0.11999999999999998, 0.11, 0.08, 0.02, 0.04, 0.0, 0.0, 0.0, 0.27, 0.01, 0.02, 0.02, 0.0, 0.0, 0.0, 0.0, 0.0, 0.11, 0.33, 0.05, 0.0, 0.0, 0.27, 0.08, 0.13, 0.13, 0.0, 0.0, 0.01, 0.0, 0.0, 0.0, 0.0, 0.01, 0.0, 0.02, 0.02, 0.0, 0.01, 0.03, 0.01, 0.15000000000000002, 0.01, 0.0, 0.0, 0.0, 0.0, 0.0, 0.0, 0.0, 0.0, 0.0, 0.02, 0.01, 0.0, 0.0, 0.0, 0.01, 0.0, 0.0, 0.18, 0.04, 0.0, 0.0, 0.06, 0.21999999999999997, 0.0, 0.27, 0.05, 0.01, 0.0, 0.0, 0.0, 0.0, 0.0, 0.47, 0.1, 0.0, 0.14, 0.11000000000000001, 0.15000000000000002, 0.02, 0.29000000000000004, 0.0, 0.33, 0.13, 0.1, 0.060000000000000005, 0.4, 0.12000000000000001, 0.05, 0.0, 0.05, 0.08, 0.01, 0.03, 0.01, 0.0, 0.0, 0.0, 0.0, 0.0, 0.0, 0.19000000000000003, 0.04, 0.56, 0.15, 0.01, 0.31, 0.19, 0.01, 0.0, 0.39, 0.16999999999999998, 0.0, 0.02, 0.0, 0.0, 0.0, 0.0, 0.0, 0.0, 0.0, 0.0, 0.0, 0.0, 0.0, 0.0, 0.0, 0.0, 0.0, 0.0, 0.02, 0.05, 0.0, 0.0, 0.0, 0.0, 0.03, 0.77, 0.29000000000000004, 0.0, 0.0, 0.02, 0.02, 0.0, 0.04, 0.09, 0.01, 0.04, 0.01, 0.0, 0.35000000000000003, 0.13, 0.0, 0.0, 0.0, 0.060000000000000005, 0.01, 0.01, 0.0, 0.0, 0.0, 0.01, 0.02, 0.0, 0.0, 0.01, 0.14, 0.03, 0.0, 0.02, 0.0, 0.0, 0.0, 0.11, 0.01, 0.0, 0.0, 0.02, 0.0, 0.0, 0.0, 0.0, 0.0, 0.02, 0.02, 0.0, 0.0, 0.0, 0.0, 0.0, 0.0, 0.02, 0.0, 0.0, 0.0, 0.0, 0.07, 0.0, 0.0, 0.0, 0.0, 0.0, 0.0, 0.0, 0.0, 0.0, 0.01, 0.0, 0.0, 0.0, 0.0, 0.0, 0.01, 0.02, 0.02, 0.0, 0.0, 0.01, 0.060000000000000005, 0.02, 0.03, 0.0, 0.0, 0.0, 0.0, 0.04, 0.04, 0.0, 0.0, 0.03, 0.03, 0.0, 0.0, 0.0, 0.0, 0.0, 0.0, 0.0, 0.0, 0.0, 0.0, 0.0, 0.04, 0.12, 0.31, 0.0, 0.0]\n"
     ]
    }
   ],
   "source": [
    "print(rain_train)"
   ]
  },
  {
   "cell_type": "code",
   "execution_count": 55,
   "id": "4d28b880",
   "metadata": {},
   "outputs": [],
   "source": [
    "rain_train_b = [1 if 0.10 <= r else 0 for r in rain_train]"
   ]
  },
  {
   "cell_type": "code",
   "execution_count": 56,
   "id": "eb7c32ca",
   "metadata": {},
   "outputs": [
    {
     "name": "stdout",
     "output_type": "stream",
     "text": [
      "[0, 0, 1, 0, 1, 0, 0, 0, 0, 0, 1, 1, 1, 1, 0, 0, 1, 1, 0, 0, 1, 1, 1, 0, 0, 0, 0, 1, 1, 0, 0, 0, 0, 0, 0, 0, 0, 0, 0, 0, 1, 0, 0, 0, 0, 0, 0, 0, 0, 0, 1, 0, 0, 0, 0, 0, 0, 0, 1, 1, 0, 1, 0, 0, 0, 0, 0, 0, 0, 0, 0, 0, 1, 0, 0, 0, 0, 0, 0, 0, 0, 0, 1, 0, 1, 0, 0, 0, 0, 0, 0, 1, 0, 0, 0, 0, 0, 0, 0, 0, 0, 0, 0, 0, 0, 0, 1, 1, 0, 0, 0, 0, 0, 0, 0, 0, 0, 0, 0, 0, 0, 0, 0, 0, 0, 0, 0, 0, 0, 0, 0, 0, 0, 0, 0, 0, 0, 0, 0, 0, 0, 0, 0, 0, 0, 0, 0, 0, 0, 1, 0, 0, 0, 0, 0, 0, 0, 0, 0, 0, 0, 0, 0, 0, 0, 0, 0, 0, 0, 0, 0, 1, 0, 1, 0, 0, 0, 0, 0, 0, 0, 0, 1, 1, 0, 0, 0, 0, 0, 0, 1, 0, 0, 0, 0, 0, 0, 0, 0, 0, 0, 0, 0, 0, 0, 1, 0, 1, 1, 0, 0, 0, 0, 0, 0, 0, 0, 0, 0, 0, 0, 0, 0, 0, 0, 0, 0, 1, 0, 1, 0, 0, 0, 0, 0, 0, 1, 0, 0, 0, 0, 0, 1, 0, 0, 1, 0, 0, 0, 0, 0, 1, 1, 0, 0, 0, 1, 0, 0, 0, 0, 1, 0, 0, 0, 0, 1, 0, 0, 1, 1, 1, 1, 0, 0, 0, 0, 0, 0, 0, 1, 0, 0, 0, 0, 0, 0, 1, 0, 0, 0, 0, 0, 0, 0, 0, 0, 0, 0, 0, 0, 0, 0, 0, 0, 0, 0, 0, 0, 0, 0, 0, 0, 0, 0, 1, 0, 0, 0, 0, 0, 0, 1, 0, 0, 1, 0, 0, 0, 1, 1, 0, 0, 0, 0, 0, 0, 0, 0, 0, 1, 0, 1, 0, 0, 0, 0, 0, 0, 0, 0, 0, 0, 0, 0, 0, 0, 0, 0, 0, 0, 1, 1, 0, 0, 0, 1, 0, 1, 0, 0, 0, 0, 0, 0, 1, 0, 0, 0, 0, 1, 0, 0, 0, 1, 0, 0, 0, 0, 1, 0, 0, 0, 0, 0, 0, 0, 0, 0, 0, 0, 0, 0, 0, 0, 0, 0, 0, 0, 0, 0, 0, 0, 0, 0, 0, 0, 0, 0, 0, 0, 0, 1, 0, 1, 0, 0, 0, 1, 0, 0, 0, 0, 0, 0, 0, 0, 0, 0, 0, 0, 0, 1, 0, 0, 0, 0, 0, 0, 0, 0, 0, 0, 0, 0, 0, 0, 0, 0, 0, 0, 0, 0, 0, 0, 1, 1, 0, 0, 0, 0, 0, 0, 1, 0, 0, 0, 0, 0, 0, 1, 0, 1, 0, 0, 0, 1, 0, 0, 0, 0, 0, 0, 1, 0, 0, 0, 0, 0, 0, 0, 0, 0, 0, 0, 0, 0, 0, 0, 0, 1, 1, 0, 0, 1, 1, 1, 0, 0, 0, 0, 0, 1, 0, 0, 0, 0, 0, 0, 0, 0, 0, 0, 0, 0, 0, 0, 0, 1, 1, 0, 0, 0, 0, 1, 0, 0, 0, 0, 0, 0, 0, 0, 0, 0, 1, 1, 0, 0, 0, 0, 1, 0, 0, 1, 0, 0, 1, 0, 0, 0, 0, 1, 0, 0, 0, 0, 0, 0, 0, 0, 1, 1, 1, 0, 0, 0, 0, 0, 0, 0, 0, 0, 0, 0, 1, 1, 0, 0, 0, 0, 0, 0, 0, 0, 0, 0, 1, 1, 0, 0, 0, 0, 0, 0, 0, 0, 0, 0, 0, 0, 0, 0, 0, 0, 0, 0, 0, 0, 0, 0, 0, 0, 0, 1, 0, 0, 0, 0, 0, 0, 0, 0, 0, 1, 1, 0, 1, 0, 1, 0, 1, 0, 0, 0, 0, 0, 0, 0, 0, 0, 0, 0, 0, 0, 0, 1, 0, 0, 0, 0, 0, 0, 0, 0, 0, 0, 0, 0, 0, 0, 0, 1, 0, 0, 1, 0, 0, 1, 0, 0, 0, 0, 0, 0, 0, 0, 0, 0, 0, 1, 0, 0, 0, 0, 0, 0, 0, 0, 0, 0, 0, 0, 0, 0, 0, 0, 0, 0, 0, 0, 0, 1, 0, 0, 0, 0, 0, 1, 0, 0, 1, 0, 1, 0, 1, 0, 0, 0, 0, 1, 0, 0, 1, 0, 0, 1, 0, 1, 0, 1, 0, 1, 1, 1, 0, 0, 0, 0, 1, 0, 1, 0, 0, 0, 1, 1, 0, 0, 1, 1, 1, 0, 0, 0, 0, 1, 0, 0, 0, 0, 0, 0, 0, 0, 0, 0, 0, 0, 0, 0, 0, 1, 0, 0, 0, 0, 0, 0, 0, 0, 0, 0, 0, 0, 0, 0, 0, 0, 0, 0, 1, 0, 0, 0, 0, 0, 0, 0, 0, 0, 0, 0, 0, 0, 0, 0, 0, 0, 0, 1, 0, 0, 0, 1, 0, 0, 0, 0, 0, 0, 0, 0, 0, 1, 0, 0, 0, 0, 0, 0, 0, 0, 0, 0, 0, 0, 0, 0, 0, 0, 0, 0, 0, 0, 0, 0, 0, 1, 0, 0, 0, 0, 0, 0, 0, 0, 0, 0, 0, 0, 0, 0, 0, 0, 0, 0, 0, 0, 0, 0, 0, 0, 1, 0, 0, 0, 0, 1, 0, 0, 0, 0, 0, 0, 0, 0, 0, 1, 0, 0, 0, 0, 1, 0, 0, 0, 0, 0, 1, 0, 0, 0, 0, 1, 0, 0, 0, 1, 1, 1, 1, 0, 0, 0, 0, 0, 0, 1, 0, 0, 0, 0, 1, 1, 0, 0, 0, 0, 1, 0, 0, 0, 0, 0, 0, 0, 1, 1, 1, 0, 0, 1, 0, 0, 0, 0, 0, 0, 0, 0, 0, 1, 0, 1, 1, 1, 1, 0, 0, 0, 0, 1, 0, 0, 0, 0, 0, 0, 0, 1, 0, 0, 0, 0, 0, 1, 0, 0, 0, 0, 1, 1, 0, 0, 0, 0, 0, 0, 1, 0, 0, 0, 0, 0, 0, 0, 0, 1, 1, 0, 0, 0, 1, 0, 1, 1, 0, 0, 0, 0, 0, 0, 0, 0, 0, 0, 0, 0, 0, 0, 0, 1, 0, 0, 0, 0, 0, 0, 0, 0, 0, 0, 0, 0, 0, 0, 0, 0, 0, 0, 1, 0, 0, 0, 0, 1, 0, 1, 0, 0, 0, 0, 0, 0, 0, 1, 1, 0, 1, 1, 1, 0, 1, 0, 1, 1, 1, 0, 1, 1, 0, 0, 0, 0, 0, 0, 0, 0, 0, 0, 0, 0, 0, 1, 0, 1, 1, 0, 1, 1, 0, 0, 1, 1, 0, 0, 0, 0, 0, 0, 0, 0, 0, 0, 0, 0, 0, 0, 0, 0, 0, 0, 0, 0, 0, 0, 0, 0, 0, 1, 1, 0, 0, 0, 0, 0, 0, 0, 0, 0, 0, 0, 1, 1, 0, 0, 0, 0, 0, 0, 0, 0, 0, 0, 0, 0, 0, 0, 1, 0, 0, 0, 0, 0, 0, 1, 0, 0, 0, 0, 0, 0, 0, 0, 0, 0, 0, 0, 0, 0, 0, 0, 0, 0, 0, 0, 0, 0, 0, 0, 0, 0, 0, 0, 0, 0, 0, 0, 0, 0, 0, 0, 0, 0, 0, 0, 0, 0, 0, 0, 0, 0, 0, 0, 0, 0, 0, 0, 0, 0, 0, 0, 0, 0, 0, 0, 0, 0, 0, 0, 0, 0, 0, 0, 0, 1, 1, 0, 0]\n"
     ]
    }
   ],
   "source": [
    "print(rain_train_b)"
   ]
  },
  {
   "cell_type": "code",
   "execution_count": 57,
   "id": "93a97fa7",
   "metadata": {},
   "outputs": [
    {
     "data": {
      "text/plain": [
       "(array([1051.,    0.,    0.,    0.,    0.,    0.,    0.,    0.,    0.,\n",
       "         199.]),\n",
       " array([0. , 0.1, 0.2, 0.3, 0.4, 0.5, 0.6, 0.7, 0.8, 0.9, 1. ]),\n",
       " <BarContainer object of 10 artists>)"
      ]
     },
     "execution_count": 57,
     "metadata": {},
     "output_type": "execute_result"
    },
    {
     "data": {
      "image/png": "[encoded data removed]",
      "text/plain": [
       "<Figure size 640x480 with 1 Axes>"
      ]
     },
     "metadata": {},
     "output_type": "display_data"
    }
   ],
   "source": [
    "plt.hist(rain_train_b)"
   ]
  },
  {
   "cell_type": "code",
   "execution_count": 58,
   "id": "aa610db5",
   "metadata": {},
   "outputs": [
    {
     "data": {
      "text/plain": [
       "(1250,)"
      ]
     },
     "execution_count": 58,
     "metadata": {},
     "output_type": "execute_result"
    }
   ],
   "source": [
    "rain_train_c = np.array(rain_train_b)\n",
    "rain_train_c.shape"
   ]
  },
  {
   "cell_type": "code",
   "execution_count": 59,
   "id": "d865a655",
   "metadata": {},
   "outputs": [],
   "source": [
    "rain_val = []  \n",
    "\n",
    "\n",
    "for batch in meteo_val:\n",
    "    # Convert the entire batch to a NumPy array\n",
    "    batch_numpy = batch.numpy()\n",
    "\n",
    "    # Sum the values in the last column\n",
    "    last_column_sum = tf.reduce_sum(batch_numpy[:, -1])\n",
    "\n",
    "    # Append the sum to the list\n",
    "    rain_val.append(last_column_sum.numpy())"
   ]
  },
  {
   "cell_type": "code",
   "execution_count": 60,
   "id": "0366eb45",
   "metadata": {},
   "outputs": [],
   "source": [
    "rain_val_b = [1 if 0.10 <= r else 0 for r in rain_val]"
   ]
  },
  {
   "cell_type": "code",
   "execution_count": 61,
   "id": "81b6911f",
   "metadata": {},
   "outputs": [
    {
     "data": {
      "text/plain": [
       "(312,)"
      ]
     },
     "execution_count": 61,
     "metadata": {},
     "output_type": "execute_result"
    }
   ],
   "source": [
    "rain_val_c = np.array(rain_val_b)\n",
    "rain_val_c.shape"
   ]
  },
  {
   "cell_type": "code",
   "execution_count": 62,
   "id": "4cd7d807",
   "metadata": {},
   "outputs": [
    {
     "data": {
      "text/plain": [
       "((1250, 8, 48, 48, 1), (1250,), (312, 8, 48, 48, 1), (312,))"
      ]
     },
     "execution_count": 62,
     "metadata": {},
     "output_type": "execute_result"
    }
   ],
   "source": [
    "cloud_train.shape, rain_train_c.shape, cloud_val.shape, rain_val_c.shape"
   ]
  },
  {
   "cell_type": "code",
   "execution_count": 64,
   "id": "3ab0c67a",
   "metadata": {},
   "outputs": [],
   "source": [
    "batch_size = 8\n",
    "\n",
    "train_dataset = tf.data.Dataset.from_tensor_slices((cloud_train, rain_train_c))\n",
    "train_dataset = train_dataset.shuffle(buffer_size=10000).batch(batch_size)\n",
    "\n",
    "val_dataset = tf.data.Dataset.from_tensor_slices((cloud_val, rain_val_c))\n",
    "val_dataset = val_dataset.batch(batch_size)"
   ]
  },
  {
   "cell_type": "markdown",
   "id": "98b0de8e",
   "metadata": {},
   "source": [
    "In these lines, a TensorFlow data pipeline is established for training and validation datasets. The training dataset is created by slicing the input tensors (cloud_train and rain_train_c), shuffling the data with a buffer size of 10000, and then batching it with the specified batch_size. Similarly, the validation dataset is created by slicing the validation tensors (cloud_val and rain_val_c) and batching it with the same batch_size."
   ]
  },
  {
   "cell_type": "code",
   "execution_count": 65,
   "id": "d3b84aa6",
   "metadata": {},
   "outputs": [
    {
     "name": "stdout",
     "output_type": "stream",
     "text": [
      "Manual Class Weights: {0: 0.5946717411988582, 1: 3.14070351758794}\n"
     ]
    }
   ],
   "source": [
    "def compute_class_weights_manual(y):\n",
    "    \"\"\"\n",
    "    Compute class weights for imbalanced datasets manually.\n",
    "    \n",
    "    Parameters:\n",
    "    - y: Numpy array or pandas Series containing class labels.\n",
    "    \n",
    "    Returns:\n",
    "    - Dictionary of class weights.\n",
    "    \"\"\"\n",
    "    classes = np.unique(y)\n",
    "    class_counts = np.bincount(y)\n",
    "    \n",
    "    total_samples = len(y)\n",
    "    class_weights = total_samples / (len(classes) * class_counts)\n",
    "    \n",
    "    class_weights_dict = dict(zip(classes, class_weights))\n",
    "    return class_weights_dict\n",
    "\n",
    "# Example usage:\n",
    "class_weights_manual = compute_class_weights_manual(rain_train_c)\n",
    "print(\"Manual Class Weights:\", class_weights_manual)"
   ]
  },
  {
   "cell_type": "markdown",
   "id": "e82c7900",
   "metadata": {},
   "source": [
    "This code defines a function compute_class_weights_manual that calculates class weights for imbalanced datasets manually. It takes a numpy array or pandas Series containing class labels (y) as input, computes class weights using a formula, and returns a dictionary mapping each class to its corresponding weight."
   ]
  },
  {
   "cell_type": "code",
   "execution_count": 66,
   "id": "d4a1acb5",
   "metadata": {},
   "outputs": [],
   "source": [
    "\n",
    "adam = Adam(learning_rate=0.001)\n",
    "embed_dim = 8  # Adjust based on your data\n",
    "num_heads = 4  # Adjust based on your data\n",
    "ff_dim = 32  # Adjust based on your data\n",
    "num_transformer_blocks = 2  # Adjust based on your data\n",
    "mlp_units = [16]  # Adjust based on your data\n",
    "\n",
    "input_shape = (8, 48, 48, 1)  # Adjust based on your data\n",
    "output_dim = 1  # Adjust based on your data\n",
    "\n",
    "dropout = 0.25  # Adjust based on your data\n",
    "batch_size = 32  # Adjust based on your data\n",
    "\n",
    "#model = build_transformer_model(embed_dim, num_heads, ff_dim, input_shape, output_dim, num_transformer_blocks, mlp_units, dropout)\n",
    "input_shape = (8, 48, 48, 1)\n",
    "output_dim = 1"
   ]
  },
  {
   "cell_type": "markdown",
   "id": "b6558d01",
   "metadata": {},
   "source": [
    "In this code, hyperparameters and configurations for a transformer model are set, including the learning rate, embedding dimension, number of attention heads, feedforward dimension, number of transformer blocks, dense layer units, input shape, output dimension, dropout rate, and batch size."
   ]
  },
  {
   "cell_type": "markdown",
   "id": "7050eb55",
   "metadata": {},
   "source": [
    "### Conv LSTM Model without Attention"
   ]
  },
  {
   "cell_type": "markdown",
   "id": "36562c08",
   "metadata": {},
   "source": [
    "This code defines a Sequential model for a ConvLSTM-based neural network. It includes ConvLSTM layers with BatchNormalization and Dropout for regularization. The model is compiled with the Adam optimizer using mean squared error as the loss function."
   ]
  },
  {
   "cell_type": "code",
   "execution_count": 67,
   "id": "23d475b8",
   "metadata": {},
   "outputs": [
    {
     "name": "stderr",
     "output_type": "stream",
     "text": [
      "2023-12-13 14:01:09.432311: I tensorflow/tsl/platform/default/subprocess.cc:304] Start cannot spawn child process: No such file or directory\n"
     ]
    },
    {
     "name": "stdout",
     "output_type": "stream",
     "text": [
      "Model: \"sequential\"\n",
      "_________________________________________________________________\n",
      " Layer (type)                Output Shape              Param #   \n",
      "=================================================================\n",
      " conv_lstm2d (ConvLSTM2D)    (None, 8, 48, 48, 32)     38144     \n",
      "                                                                 \n",
      " batch_normalization (Batch  (None, 8, 48, 48, 32)     128       \n",
      " Normalization)                                                  \n",
      "                                                                 \n",
      " dropout (Dropout)           (None, 8, 48, 48, 32)     0         \n",
      "                                                                 \n",
      " conv_lstm2d_1 (ConvLSTM2D)  (None, 8, 48, 48, 32)     73856     \n",
      "                                                                 \n",
      " batch_normalization_1 (Bat  (None, 8, 48, 48, 32)     128       \n",
      " chNormalization)                                                \n",
      "                                                                 \n",
      " dropout_1 (Dropout)         (None, 8, 48, 48, 32)     0         \n",
      "                                                                 \n",
      " conv_lstm2d_2 (ConvLSTM2D)  (None, 48, 48, 32)        73856     \n",
      "                                                                 \n",
      " batch_normalization_2 (Bat  (None, 48, 48, 32)        128       \n",
      " chNormalization)                                                \n",
      "                                                                 \n",
      " dropout_2 (Dropout)         (None, 48, 48, 32)        0         \n",
      "                                                                 \n",
      " flatten (Flatten)           (None, 73728)             0         \n",
      "                                                                 \n",
      " dense (Dense)               (None, 64)                4718656   \n",
      "                                                                 \n",
      " batch_normalization_3 (Bat  (None, 64)                256       \n",
      " chNormalization)                                                \n",
      "                                                                 \n",
      " dropout_3 (Dropout)         (None, 64)                0         \n",
      "                                                                 \n",
      " dense_1 (Dense)             (None, 1)                 65        \n",
      "                                                                 \n",
      "=================================================================\n",
      "Total params: 4905217 (18.71 MB)\n",
      "Trainable params: 4904897 (18.71 MB)\n",
      "Non-trainable params: 320 (1.25 KB)\n",
      "_________________________________________________________________\n"
     ]
    }
   ],
   "source": [
    "from keras.layers import Dropout\n",
    "\n",
    "model = Sequential()\n",
    "\n",
    "adam = Adam(learning_rate=0.001)\n",
    "\n",
    "model.add(ConvLSTM2D(filters=32, kernel_size=(3, 3), input_shape=input_shape, padding='same', return_sequences=True))\n",
    "model.add(BatchNormalization())\n",
    "model.add(Dropout(0.5))  # Add dropout with a specified rate (e.g., 0.5)\n",
    "\n",
    "model.add(ConvLSTM2D(filters=32, kernel_size=(3, 3), padding='same', return_sequences=True))\n",
    "model.add(BatchNormalization())\n",
    "model.add(Dropout(0.5))  # Add dropout with a specified rate (e.g., 0.5)\n",
    "\n",
    "# Add Spatial Attention\n",
    "# model.add(Attention(use_scale=True))\n",
    "\n",
    "model.add(ConvLSTM2D(filters=32, kernel_size=(3, 3), padding='same', return_sequences=False))\n",
    "model.add(BatchNormalization())\n",
    "model.add(Dropout(0.5))  # Add dropout with a specified rate (e.g., 0.5)\n",
    "\n",
    "model.add(Flatten())\n",
    "\n",
    "model.add(Dense(64, activation='relu'))\n",
    "model.add(BatchNormalization())\n",
    "model.add(Dropout(0.5))  # Add dropout with a specified rate (e.g., 0.5)\n",
    "\n",
    "model.add(Dense(output_dim, activation='linear'))\n",
    "\n",
    "model.compile(optimizer=adam, loss='mse', metrics=['mse', 'accuracy'])\n",
    "\n",
    "model.summary()\n"
   ]
  },
  {
   "cell_type": "code",
   "execution_count": 68,
   "id": "472572d9",
   "metadata": {},
   "outputs": [],
   "source": [
    "from keras.callbacks import LearningRateScheduler, ModelCheckpoint, EarlyStopping\n",
    "from keras.models import load_model\n",
    "\n",
    "epochs = 30\n",
    "\n",
    "earlyStop = EarlyStopping(monitor='val_mse', patience=5, verbose=1, mode='min')\n",
    "\n",
    "# Define a ramp-up learning rate function\n",
    "def ramp_up_learning_rate(epoch, initial_lr=1e-4, rampup_length=10):\n",
    "    start_lr = 1e-3; min_lr = 1e-3; max_lr = 2e-3\n",
    "\n",
    "    # define the number of epochs to increase \n",
    "    # LR lineary and then the decay factor\n",
    "    rampup_epochs = 6; sustain_epochs = 0; exp_decay = .5\n",
    "\n",
    "    # method to update the LR value based on the current epoch\n",
    "    def lr(epoch, start_lr, min_lr, max_lr, rampup_epochs,\n",
    "           sustain_epochs, exp_decay):\n",
    "        if epoch < rampup_epochs:\n",
    "            lr = ((max_lr - start_lr) / rampup_epochs\n",
    "                        * epoch + start_lr)\n",
    "        elif epoch < rampup_epochs + sustain_epochs:\n",
    "            lr = max_lr\n",
    "        else:\n",
    "            lr = ((max_lr - min_lr) *\n",
    "                      exp_decay**(epoch - rampup_epochs -\n",
    "                                    sustain_epochs) + min_lr)\n",
    "        return lr\n",
    "\n",
    "    return lr(epoch, start_lr, min_lr, max_lr,\n",
    "              rampup_epochs, sustain_epochs, exp_decay)\n",
    "\n",
    "# Define a step decay function\n",
    "def step_decay(epoch):\n",
    "    initial_lr = 0.001  # Initial learning rate\n",
    "    drop = 0.5  # Learning rate drop factor\n",
    "    epochs_drop = 5  # Number of epochs after which learning rate will drop\n",
    "    new_lr = initial_lr * (drop ** (epoch // epochs_drop))\n",
    "    return new_lr\n",
    "\n",
    "# Create a LearningRateScheduler\n",
    "lr_scheduler = LearningRateScheduler(step_decay)\n",
    "model_save = ModelCheckpoint('modelV1.h5', save_best_only=True, monitor='val_loss', mode='min')\n",
    "\n",
    "learning_rate_scheduler = LearningRateScheduler(step_decay, verbose=1)\n",
    "lr_scheduler_rampup = LearningRateScheduler(lambda epochs: ramp_up_learning_rate(epochs, rampup_length=10), verbose=1)\n"
   ]
  },
  {
   "cell_type": "markdown",
   "id": "295e5239",
   "metadata": {},
   "source": [
    "In this code, various callback functions for training a Keras model are defined. These include an EarlyStopping callback, a LearningRateScheduler with a step decay function, and a ModelCheckpoint callback to save the best model during training. Additionally, a custom ramp-up learning rate function is defined for a separate LearningRateScheduler. Adjust the parameters based on your specific requirements."
   ]
  },
  {
   "cell_type": "code",
   "execution_count": 69,
   "id": "ad7a69a5",
   "metadata": {},
   "outputs": [
    {
     "name": "stdout",
     "output_type": "stream",
     "text": [
      "WARNING:tensorflow:Error in loading the saved optimizer state. As a result, your model is starting with a freshly initialized optimizer.\n",
      "Model loaded successfully\n",
      "\n",
      "Epoch 1: LearningRateScheduler setting learning rate to 0.001.\n",
      "Epoch 1/30\n"
     ]
    },
    {
     "name": "stderr",
     "output_type": "stream",
     "text": [
      "2023-12-13 13:17:06.878016: I tensorflow/compiler/xla/stream_executor/cuda/cuda_dnn.cc:442] Loaded cuDNN version 8700\n",
      "2023-12-13 13:17:06.987956: I tensorflow/tsl/platform/default/subprocess.cc:304] Start cannot spawn child process: No such file or directory\n",
      "2023-12-13 13:17:09.148249: I tensorflow/compiler/xla/service/service.cc:168] XLA service 0x7f540002abf0 initialized for platform CUDA (this does not guarantee that XLA will be used). Devices:\n",
      "2023-12-13 13:17:09.148291: I tensorflow/compiler/xla/service/service.cc:176]   StreamExecutor device (0): NVIDIA GeForce RTX 3060 Laptop GPU, Compute Capability 8.6\n",
      "2023-12-13 13:17:09.166319: I tensorflow/compiler/mlir/tensorflow/utils/dump_mlir_util.cc:269] disabling MLIR crash reproducer, set env var `MLIR_CRASH_REPRODUCER_DIRECTORY` to enable.\n",
      "2023-12-13 13:17:09.299580: I ./tensorflow/compiler/jit/device_compiler.h:186] Compiled cluster using XLA!  This line is logged at most once for the lifetime of the process.\n"
     ]
    },
    {
     "name": "stdout",
     "output_type": "stream",
     "text": [
      "157/157 [==============================] - ETA: 0s - loss: 0.0606 - mse: 0.0654 - accuracy: 0.9472"
     ]
    },
    {
     "name": "stderr",
     "output_type": "stream",
     "text": [
      "/home/tarush/.local/lib/python3.10/site-packages/keras/src/engine/training.py:3079: UserWarning: You are saving your model as an HDF5 file via `model.save()`. This file format is considered legacy. We recommend using instead the native Keras format, e.g. `model.save('my_model.keras')`.\n",
      "  saving_api.save_model(\n"
     ]
    },
    {
     "name": "stdout",
     "output_type": "stream",
     "text": [
      "157/157 [==============================] - 19s 83ms/step - loss: 0.0606 - mse: 0.0654 - accuracy: 0.9472 - val_loss: 0.0465 - val_mse: 0.0465 - val_accuracy: 1.0000 - lr: 0.0010\n",
      "\n",
      "Epoch 2: LearningRateScheduler setting learning rate to 0.001.\n",
      "Epoch 2/30\n",
      "157/157 [==============================] - 12s 78ms/step - loss: 0.0713 - mse: 0.0732 - accuracy: 0.9480 - val_loss: 0.0493 - val_mse: 0.0493 - val_accuracy: 1.0000 - lr: 0.0010\n",
      "\n",
      "Epoch 3: LearningRateScheduler setting learning rate to 0.001.\n",
      "Epoch 3/30\n",
      "157/157 [==============================] - 12s 79ms/step - loss: 0.0619 - mse: 0.0710 - accuracy: 0.9456 - val_loss: 0.2489 - val_mse: 0.2491 - val_accuracy: 0.9968 - lr: 0.0010\n",
      "\n",
      "Epoch 4: LearningRateScheduler setting learning rate to 0.001.\n",
      "Epoch 4/30\n",
      "157/157 [==============================] - 12s 78ms/step - loss: 0.0724 - mse: 0.0798 - accuracy: 0.9352 - val_loss: 0.0656 - val_mse: 0.0656 - val_accuracy: 0.9679 - lr: 0.0010\n",
      "\n",
      "Epoch 5: LearningRateScheduler setting learning rate to 0.001.\n",
      "Epoch 5/30\n",
      "157/157 [==============================] - 13s 81ms/step - loss: 0.0727 - mse: 0.0800 - accuracy: 0.9352 - val_loss: 0.0333 - val_mse: 0.0333 - val_accuracy: 1.0000 - lr: 0.0010\n",
      "\n",
      "Epoch 6: LearningRateScheduler setting learning rate to 0.0005.\n",
      "Epoch 6/30\n",
      "157/157 [==============================] - 13s 80ms/step - loss: 0.0610 - mse: 0.0672 - accuracy: 0.9576 - val_loss: 0.0311 - val_mse: 0.0311 - val_accuracy: 0.9936 - lr: 5.0000e-04\n",
      "\n",
      "Epoch 7: LearningRateScheduler setting learning rate to 0.0005.\n",
      "Epoch 7/30\n",
      "157/157 [==============================] - 12s 79ms/step - loss: 0.0608 - mse: 0.0675 - accuracy: 0.9640 - val_loss: 0.0625 - val_mse: 0.0625 - val_accuracy: 0.9840 - lr: 5.0000e-04\n",
      "\n",
      "Epoch 8: LearningRateScheduler setting learning rate to 0.0005.\n",
      "Epoch 8/30\n",
      "157/157 [==============================] - 13s 81ms/step - loss: 0.0571 - mse: 0.0626 - accuracy: 0.9632 - val_loss: 0.0179 - val_mse: 0.0179 - val_accuracy: 1.0000 - lr: 5.0000e-04\n",
      "\n",
      "Epoch 9: LearningRateScheduler setting learning rate to 0.0005.\n",
      "Epoch 9/30\n",
      "157/157 [==============================] - 12s 79ms/step - loss: 0.0595 - mse: 0.0650 - accuracy: 0.9568 - val_loss: 0.0225 - val_mse: 0.0225 - val_accuracy: 1.0000 - lr: 5.0000e-04\n",
      "\n",
      "Epoch 10: LearningRateScheduler setting learning rate to 0.0005.\n",
      "Epoch 10/30\n",
      "157/157 [==============================] - 12s 78ms/step - loss: 0.0534 - mse: 0.0595 - accuracy: 0.9664 - val_loss: 0.0210 - val_mse: 0.0210 - val_accuracy: 1.0000 - lr: 5.0000e-04\n",
      "\n",
      "Epoch 11: LearningRateScheduler setting learning rate to 0.00025.\n",
      "Epoch 11/30\n",
      "157/157 [==============================] - 12s 78ms/step - loss: 0.0579 - mse: 0.0625 - accuracy: 0.9656 - val_loss: 0.0211 - val_mse: 0.0211 - val_accuracy: 1.0000 - lr: 2.5000e-04\n",
      "\n",
      "Epoch 12: LearningRateScheduler setting learning rate to 0.00025.\n",
      "Epoch 12/30\n",
      "157/157 [==============================] - 12s 78ms/step - loss: 0.0563 - mse: 0.0636 - accuracy: 0.9608 - val_loss: 0.0205 - val_mse: 0.0205 - val_accuracy: 1.0000 - lr: 2.5000e-04\n",
      "\n",
      "Epoch 13: LearningRateScheduler setting learning rate to 0.00025.\n",
      "Epoch 13/30\n",
      "157/157 [==============================] - 12s 78ms/step - loss: 0.0522 - mse: 0.0600 - accuracy: 0.9704 - val_loss: 0.0276 - val_mse: 0.0276 - val_accuracy: 1.0000 - lr: 2.5000e-04\n",
      "\n",
      "Epoch 14: LearningRateScheduler setting learning rate to 0.00025.\n",
      "Epoch 14/30\n",
      "157/157 [==============================] - 13s 80ms/step - loss: 0.0507 - mse: 0.0560 - accuracy: 0.9776 - val_loss: 0.0123 - val_mse: 0.0123 - val_accuracy: 1.0000 - lr: 2.5000e-04\n",
      "\n",
      "Epoch 15: LearningRateScheduler setting learning rate to 0.00025.\n",
      "Epoch 15/30\n",
      "157/157 [==============================] - 12s 78ms/step - loss: 0.0516 - mse: 0.0582 - accuracy: 0.9632 - val_loss: 0.0208 - val_mse: 0.0208 - val_accuracy: 1.0000 - lr: 2.5000e-04\n",
      "\n",
      "Epoch 16: LearningRateScheduler setting learning rate to 0.000125.\n",
      "Epoch 16/30\n",
      "157/157 [==============================] - 12s 79ms/step - loss: 0.0552 - mse: 0.0603 - accuracy: 0.9624 - val_loss: 0.0172 - val_mse: 0.0172 - val_accuracy: 1.0000 - lr: 1.2500e-04\n",
      "\n",
      "Epoch 17: LearningRateScheduler setting learning rate to 0.000125.\n",
      "Epoch 17/30\n",
      "157/157 [==============================] - 13s 81ms/step - loss: 0.0514 - mse: 0.0544 - accuracy: 0.9720 - val_loss: 0.0160 - val_mse: 0.0160 - val_accuracy: 1.0000 - lr: 1.2500e-04\n",
      "\n",
      "Epoch 18: LearningRateScheduler setting learning rate to 0.000125.\n",
      "Epoch 18/30\n",
      "157/157 [==============================] - 12s 80ms/step - loss: 0.0540 - mse: 0.0590 - accuracy: 0.9656 - val_loss: 0.0204 - val_mse: 0.0204 - val_accuracy: 1.0000 - lr: 1.2500e-04\n",
      "\n",
      "Epoch 19: LearningRateScheduler setting learning rate to 0.000125.\n",
      "Epoch 19/30\n",
      "157/157 [==============================] - 13s 81ms/step - loss: 0.0502 - mse: 0.0552 - accuracy: 0.9736 - val_loss: 0.0185 - val_mse: 0.0185 - val_accuracy: 1.0000 - lr: 1.2500e-04\n",
      "\n",
      "Epoch 20: LearningRateScheduler setting learning rate to 0.000125.\n",
      "Epoch 20/30\n",
      "157/157 [==============================] - 12s 79ms/step - loss: 0.0572 - mse: 0.0577 - accuracy: 0.9680 - val_loss: 0.0253 - val_mse: 0.0253 - val_accuracy: 1.0000 - lr: 1.2500e-04\n",
      "\n",
      "Epoch 21: LearningRateScheduler setting learning rate to 6.25e-05.\n",
      "Epoch 21/30\n",
      "157/157 [==============================] - 12s 79ms/step - loss: 0.0480 - mse: 0.0522 - accuracy: 0.9752 - val_loss: 0.0149 - val_mse: 0.0149 - val_accuracy: 1.0000 - lr: 6.2500e-05\n",
      "\n",
      "Epoch 22: LearningRateScheduler setting learning rate to 6.25e-05.\n",
      "Epoch 22/30\n",
      "157/157 [==============================] - 12s 79ms/step - loss: 0.0532 - mse: 0.0577 - accuracy: 0.9712 - val_loss: 0.0160 - val_mse: 0.0160 - val_accuracy: 1.0000 - lr: 6.2500e-05\n",
      "\n",
      "Epoch 23: LearningRateScheduler setting learning rate to 6.25e-05.\n",
      "Epoch 23/30\n",
      "157/157 [==============================] - 12s 79ms/step - loss: 0.0459 - mse: 0.0495 - accuracy: 0.9768 - val_loss: 0.0140 - val_mse: 0.0140 - val_accuracy: 1.0000 - lr: 6.2500e-05\n",
      "\n",
      "Epoch 24: LearningRateScheduler setting learning rate to 6.25e-05.\n",
      "Epoch 24/30\n",
      "157/157 [==============================] - 12s 79ms/step - loss: 0.0482 - mse: 0.0540 - accuracy: 0.9768 - val_loss: 0.0136 - val_mse: 0.0136 - val_accuracy: 1.0000 - lr: 6.2500e-05\n",
      "\n",
      "Epoch 25: LearningRateScheduler setting learning rate to 6.25e-05.\n",
      "Epoch 25/30\n",
      "157/157 [==============================] - 13s 81ms/step - loss: 0.0493 - mse: 0.0533 - accuracy: 0.9776 - val_loss: 0.0130 - val_mse: 0.0130 - val_accuracy: 1.0000 - lr: 6.2500e-05\n",
      "\n",
      "Epoch 26: LearningRateScheduler setting learning rate to 3.125e-05.\n",
      "Epoch 26/30\n",
      "157/157 [==============================] - 13s 80ms/step - loss: 0.0493 - mse: 0.0522 - accuracy: 0.9784 - val_loss: 0.0150 - val_mse: 0.0150 - val_accuracy: 1.0000 - lr: 3.1250e-05\n",
      "\n",
      "Epoch 27: LearningRateScheduler setting learning rate to 3.125e-05.\n",
      "Epoch 27/30\n",
      "157/157 [==============================] - 12s 79ms/step - loss: 0.0517 - mse: 0.0563 - accuracy: 0.9752 - val_loss: 0.0164 - val_mse: 0.0164 - val_accuracy: 1.0000 - lr: 3.1250e-05\n",
      "\n",
      "Epoch 28: LearningRateScheduler setting learning rate to 3.125e-05.\n",
      "Epoch 28/30\n",
      "157/157 [==============================] - 12s 79ms/step - loss: 0.0511 - mse: 0.0546 - accuracy: 0.9792 - val_loss: 0.0184 - val_mse: 0.0184 - val_accuracy: 1.0000 - lr: 3.1250e-05\n",
      "\n",
      "Epoch 29: LearningRateScheduler setting learning rate to 3.125e-05.\n",
      "Epoch 29/30\n",
      "157/157 [==============================] - 12s 79ms/step - loss: 0.0525 - mse: 0.0555 - accuracy: 0.9752 - val_loss: 0.0156 - val_mse: 0.0156 - val_accuracy: 1.0000 - lr: 3.1250e-05\n",
      "\n",
      "Epoch 30: LearningRateScheduler setting learning rate to 3.125e-05.\n",
      "Epoch 30/30\n",
      "157/157 [==============================] - 12s 79ms/step - loss: 0.0488 - mse: 0.0517 - accuracy: 0.9808 - val_loss: 0.0164 - val_mse: 0.0164 - val_accuracy: 1.0000 - lr: 3.1250e-05\n"
     ]
    }
   ],
   "source": [
    "try:\n",
    "    model = load_model('modelV1.h5')\n",
    "    print(\"Model loaded successfully\")\n",
    "except:\n",
    "    print(\"No model found\")\n",
    "#model.compile(loss='categorical_crossentropy', optimizer=adam, metrics=['mse'])\n",
    "\n",
    "### we will use exponential decay for the learning rate and have checkpoints for the model\n",
    "\n",
    "model_save = ModelCheckpoint('modelV1.h5', save_best_only=True, monitor='val_loss', mode='min')\n",
    "\n",
    "learning_rate_scheduler = LearningRateScheduler(step_decay, verbose=1)\n",
    "lr_scheduler_rampup = LearningRateScheduler(lambda epochs: ramp_up_learning_rate(epochs, rampup_length=5), verbose=1)\n",
    "### Now we will train the model using the train data and validate it using the validation data\n",
    "history = model.fit(train_dataset, epochs=epochs, validation_data=val_dataset, callbacks=[learning_rate_scheduler, model_save], class_weight=class_weights_manual)"
   ]
  },
  {
   "cell_type": "markdown",
   "id": "1b4d93fc",
   "metadata": {},
   "source": [
    "In this code, a pre-existing model is attempted to be loaded from 'modelV1.h5'. If the model is not found, a new model should be created. "
   ]
  },
  {
   "cell_type": "code",
   "execution_count": 70,
   "id": "e7a1f5f1",
   "metadata": {},
   "outputs": [
    {
     "data": {
      "image/png": "[encoded data removed]",
      "text/plain": [
       "<Figure size 640x480 with 1 Axes>"
      ]
     },
     "metadata": {},
     "output_type": "display_data"
    },
    {
     "data": {
      "image/png": "[encoded data removed]",
      "text/plain": [
       "<Figure size 640x480 with 1 Axes>"
      ]
     },
     "metadata": {},
     "output_type": "display_data"
    }
   ],
   "source": [
    "plt.plot(history.history['mse'])\n",
    "plt.plot(history.history['val_mse'])\n",
    "plt.legend(['train', 'validation'])\n",
    "plt.title('Mean squared error')\n",
    "plt.show()\n",
    "\n",
    "plt.plot(history.history['accuracy'])\n",
    "plt.plot(history.history['val_accuracy'])\n",
    "plt.legend(['train', 'validation'])\n",
    "plt.title('Accuracy')\n",
    "plt.show()\n"
   ]
  },
  {
   "cell_type": "markdown",
   "id": "efbf3d85",
   "metadata": {},
   "source": [
    "The first graph illustrates the mean squared error for both the training and validation datasets over epochs. The second graph shows the accuracy for the training and validation datasets over the same epochs."
   ]
  },
  {
   "cell_type": "code",
   "execution_count": 71,
   "id": "ede8a6cd",
   "metadata": {},
   "outputs": [
    {
     "name": "stdout",
     "output_type": "stream",
     "text": [
      "10/10 [==============================] - 1s 60ms/step\n",
      "              precision    recall  f1-score   support\n",
      "\n",
      "           0       1.00      0.57      0.73       263\n",
      "           1       0.30      1.00      0.47        49\n",
      "\n",
      "    accuracy                           0.64       312\n",
      "   macro avg       0.65      0.79      0.60       312\n",
      "weighted avg       0.89      0.64      0.69       312\n",
      "\n"
     ]
    }
   ],
   "source": [
    "y_pred = model.predict(cloud_val)\n",
    "\n",
    "y_pred_b = [1 if 0.10 <= r else 0 for r in y_pred]\n",
    "\n",
    "y_pred_c = np.array(y_pred_b)\n",
    "\n",
    "f1_score(rain_val_c, y_pred_c)\n",
    "\n",
    "### we will also get f1 scores for different classes of rain\n",
    "print(classification_report(rain_val_c, y_pred_c))\n"
   ]
  },
  {
   "cell_type": "markdown",
   "id": "54c80264",
   "metadata": {},
   "source": [
    "The classification report provides insights into the performance of the trained model on the validation dataset:\n",
    "\n",
    "Class 0 (No Rain):<br>\n",
    "Precision: 1.00 (All instances predicted as no rain are correct)<br>\n",
    "Recall: 0.57 (57% of actual no rain instances are correctly predicted)<br>\n",
    "F1-score: 0.73\n",
    "\n",
    "Class 1 (Rain):<br>\n",
    "Precision: 0.30 (Only 30% of instances predicted as rain are correct)<br>\n",
    "Recall: 1.00 (All actual rain instances are correctly predicted)<br>\n",
    "F1-score: 0.47<br>\n",
    "\n",
    "Overall Performance:<br>\n",
    "Accuracy: 0.64 (64% of predictions are correct)<br>\n",
    "Macro Avg F1-score: 0.60 (Unweighted average of F1-scores for each class)<br>\n",
    "Weighted Avg F1-score: 0.69 (Weighted average of F1-scores considering class imbalance)"
   ]
  },
  {
   "cell_type": "markdown",
   "id": "4646307b",
   "metadata": {},
   "source": [
    "### Make Predictions"
   ]
  },
  {
   "cell_type": "markdown",
   "id": "5fbe404c",
   "metadata": {},
   "source": [
    "The predict_rain function takes a sequence as input, makes predictions using the trained model, and filters sequences and their corresponding rain predictions based on a probability threshold (0.5)."
   ]
  },
  {
   "cell_type": "code",
   "execution_count": 72,
   "id": "64439d2e",
   "metadata": {},
   "outputs": [
    {
     "name": "stdout",
     "output_type": "stream",
     "text": [
      "10/10 [==============================] - 0s 51ms/step\n",
      "Sequences shape: (49, 8, 48, 48, 1)\n",
      "Rain preds shape: (49,)\n",
      "Probability of rain: 110.64%\n",
      "10/10 [==============================] - 0s 52ms/step\n",
      "1/1 [==============================] - 0s 124ms/step\n",
      "Rain prediction: 1.042\n",
      "Label: Positive\n"
     ]
    }
   ],
   "source": [
    "### we will write a function that takes a sequence for a day and predicts the rain for the next 2-3 days\n",
    "def predict_rain(sequence):\n",
    "    # Make a prediction on the sequence\n",
    "    preds = model.predict(sequence)\n",
    "    # Get just the probabilities for the positive class\n",
    "    positive_prob = preds[:, 0]  \n",
    "    # Get a mask for filtering out only the positive class probabilities\n",
    "    rain_mask = positive_prob > 0.5\n",
    "    # Filter the probabilities with the mask\n",
    "    rain_preds = positive_prob[rain_mask]\n",
    "    # Get the indices to keep for rain predictions\n",
    "    rain_index = np.where(rain_mask)[0]\n",
    "    # Get the actual sequences\n",
    "    sequences = sequence[rain_index]\n",
    "    # Return the sequences and their rain predictions\n",
    "    return sequences, rain_preds\n",
    "\n",
    "# Get the sequences and rain probabilities for the validation set\n",
    "val_sequences, rain_preds = predict_rain(cloud_val)\n",
    "\n",
    "# Print the shape of each array\n",
    "print(\"Sequences shape:\", val_sequences.shape)\n",
    "print(\"Rain preds shape:\", rain_preds.shape)\n",
    "\n",
    "# Get the mean of the predicted rain probabilities\n",
    "prob_true = np.mean(rain_preds)\n",
    "print(\"Probability of rain: {:.2f}%\".format(prob_true * 100))\n",
    "\n",
    "# Get the actual sequences corresponding to rain predictions\n",
    "sequences, _ = predict_rain(cloud_val)\n",
    "\n",
    "# Select the first sequence\n",
    "sequence = sequences[0]\n",
    "\n",
    "# Get the rain prediction\n",
    "prediction = model.predict(sequence[np.newaxis, ...])\n",
    "prediction = prediction[0, 0]  # Changed this line\n",
    "\n",
    "# Get the corresponding label\n",
    "label = \"Positive\" if prediction > 0.5 else \"Negative\"\n",
    "\n",
    "# Print the results\n",
    "print(\"Rain prediction:\", prediction)\n",
    "print(\"Label:\", label)\n"
   ]
  },
  {
   "cell_type": "markdown",
   "id": "c34f6b0f",
   "metadata": {},
   "source": [
    "Not bad but we will try once with a model that uses attention and see if the model is able to learn better"
   ]
  },
  {
   "cell_type": "markdown",
   "id": "03021d30",
   "metadata": {},
   "source": [
    "### Improved model: ConvLSTM with attention"
   ]
  },
  {
   "cell_type": "code",
   "execution_count": 75,
   "id": "77e57753",
   "metadata": {},
   "outputs": [
    {
     "name": "stdout",
     "output_type": "stream",
     "text": [
      "No model found\n",
      "Model: \"model_3\"\n",
      "__________________________________________________________________________________________________\n",
      " Layer (type)                Output Shape                 Param #   Connected to                  \n",
      "==================================================================================================\n",
      " input_4 (InputLayer)        [(None, 8, 48, 48, 1)]       0         []                            \n",
      "                                                                                                  \n",
      " conv_lstm2d_12 (ConvLSTM2D  (None, 8, 48, 48, 16)        9856      ['input_4[0][0]']             \n",
      " )                                                                                                \n",
      "                                                                                                  \n",
      " batch_normalization_16 (Ba  (None, 8, 48, 48, 16)        64        ['conv_lstm2d_12[0][0]']      \n",
      " tchNormalization)                                                                                \n",
      "                                                                                                  \n",
      " conv_lstm2d_13 (ConvLSTM2D  (None, 8, 48, 48, 16)        18496     ['batch_normalization_16[0][0]\n",
      " )                                                                  ']                            \n",
      "                                                                                                  \n",
      " batch_normalization_17 (Ba  (None, 8, 48, 48, 16)        64        ['conv_lstm2d_13[0][0]']      \n",
      " tchNormalization)                                                                                \n",
      "                                                                                                  \n",
      " attention_3 (Attention)     (None, 8, 48, 48, 16)        1         ['batch_normalization_17[0][0]\n",
      "                                                                    ',                            \n",
      "                                                                     'batch_normalization_17[0][0]\n",
      "                                                                    ']                            \n",
      "                                                                                                  \n",
      " tf.math.multiply_3 (TFOpLa  (None, 8, 48, 48, 16)        0         ['batch_normalization_17[0][0]\n",
      " mbda)                                                              ',                            \n",
      "                                                                     'attention_3[0][0]']         \n",
      "                                                                                                  \n",
      " conv_lstm2d_14 (ConvLSTM2D  (None, 8, 48, 48, 16)        18496     ['tf.math.multiply_3[0][0]']  \n",
      " )                                                                                                \n",
      "                                                                                                  \n",
      " batch_normalization_18 (Ba  (None, 8, 48, 48, 16)        64        ['conv_lstm2d_14[0][0]']      \n",
      " tchNormalization)                                                                                \n",
      "                                                                                                  \n",
      " flatten_4 (Flatten)         (None, 294912)               0         ['batch_normalization_18[0][0]\n",
      "                                                                    ']                            \n",
      "                                                                                                  \n",
      " dense_8 (Dense)             (None, 64)                   1887443   ['flatten_4[0][0]']           \n",
      "                                                          2                                       \n",
      "                                                                                                  \n",
      " batch_normalization_19 (Ba  (None, 64)                   256       ['dense_8[0][0]']             \n",
      " tchNormalization)                                                                                \n",
      "                                                                                                  \n",
      " dropout_7 (Dropout)         (None, 64)                   0         ['batch_normalization_19[0][0]\n",
      "                                                                    ']                            \n",
      "                                                                                                  \n",
      " dense_9 (Dense)             (None, 1)                    65        ['dropout_7[0][0]']           \n",
      "                                                                                                  \n",
      "==================================================================================================\n",
      "Total params: 18921794 (72.18 MB)\n",
      "Trainable params: 18921570 (72.18 MB)\n",
      "Non-trainable params: 224 (896.00 Byte)\n",
      "__________________________________________________________________________________________________\n"
     ]
    }
   ],
   "source": [
    "try:\n",
    "    model = load_model('modelV3Attention.h5')\n",
    "    print(\"Model loaded successfully\")\n",
    "except:\n",
    "    print(\"No model found\")\n",
    "\n",
    "model_save = ModelCheckpoint('modelV3Attention.h5', save_best_only=True, monitor='val_loss', mode='min')\n",
    "\n",
    "# Assuming input_shape is (time_steps, height, width, channels)\n",
    "input_shape = (8, 48, 48, 1)\n",
    "output_dim = 1\n",
    "\n",
    "# Define the input layer\n",
    "inputs = Input(shape=input_shape)\n",
    "\n",
    "# ConvLSTM layer 1\n",
    "x = ConvLSTM2D(filters=16, kernel_size=(3, 3), padding='same', return_sequences=True)(inputs)\n",
    "x = BatchNormalization()(x)\n",
    "\n",
    "# ConvLSTM layer 2\n",
    "x = ConvLSTM2D(filters=16, kernel_size=(3, 3), padding='same', return_sequences=True)(x)\n",
    "x = BatchNormalization()(x)\n",
    "\n",
    "# Attention mechanism\n",
    "attn = Attention(use_scale=True)([x, x])\n",
    "\n",
    "# Apply attention to the output of ConvLSTM layer 2\n",
    "attended_x = tf.multiply(x, attn)\n",
    "\n",
    "# Additional ConvLSTM layer\n",
    "x = ConvLSTM2D(filters=16, kernel_size=(3, 3), padding='same', return_sequences=True)(attended_x)\n",
    "x = BatchNormalization()(x)\n",
    "\n",
    "# Flatten the output before applying dense layers\n",
    "x = Flatten()(x)\n",
    "\n",
    "# Dense layers\n",
    "x = Dense(64, activation='relu')(x)\n",
    "x = BatchNormalization()(x)\n",
    "x = Dropout(0.5)(x)  # Adding dropout for regularization\n",
    "\n",
    "# Output layer\n",
    "outputs = Dense(output_dim, activation='linear')(x)\n",
    "\n",
    "# Create the model\n",
    "model = Model(inputs=inputs, outputs=outputs)\n",
    "\n",
    "# Compile the model\n",
    "model.compile(optimizer='adam', loss='mse', metrics=['mse', 'accuracy'])\n",
    "\n",
    "# Display the model summary\n",
    "model.summary()        "
   ]
  },
  {
   "cell_type": "code",
   "execution_count": 76,
   "id": "1379cdb2",
   "metadata": {},
   "outputs": [
    {
     "name": "stdout",
     "output_type": "stream",
     "text": [
      "\n",
      "Epoch 1: LearningRateScheduler setting learning rate to 0.001.\n",
      "Epoch 1/80\n",
      "40/40 [==============================] - ETA: 0s - loss: 1.9217 - mse: 1.8764 - accuracy: 0.6240"
     ]
    },
    {
     "name": "stderr",
     "output_type": "stream",
     "text": [
      "/home/tarush/.local/lib/python3.10/site-packages/keras/src/engine/training.py:3079: UserWarning: You are saving your model as an HDF5 file via `model.save()`. This file format is considered legacy. We recommend using instead the native Keras format, e.g. `model.save('my_model.keras')`.\n",
      "  saving_api.save_model(\n"
     ]
    },
    {
     "name": "stdout",
     "output_type": "stream",
     "text": [
      "40/40 [==============================] - 11s 152ms/step - loss: 1.9217 - mse: 1.8764 - accuracy: 0.6240 - val_loss: 0.6220 - val_mse: 0.6221 - val_accuracy: 0.1571 - lr: 0.0010\n",
      "\n",
      "Epoch 2: LearningRateScheduler setting learning rate to 0.0011666666666666668.\n",
      "Epoch 2/80\n",
      "40/40 [==============================] - 5s 125ms/step - loss: 0.8583 - mse: 0.8197 - accuracy: 0.5616 - val_loss: 0.6942 - val_mse: 0.6941 - val_accuracy: 0.1571 - lr: 0.0012\n",
      "\n",
      "Epoch 3: LearningRateScheduler setting learning rate to 0.0013333333333333333.\n",
      "Epoch 3/80\n",
      "40/40 [==============================] - 5s 125ms/step - loss: 0.6371 - mse: 0.6682 - accuracy: 0.5800 - val_loss: 1.5539 - val_mse: 1.5539 - val_accuracy: 0.1571 - lr: 0.0013\n",
      "\n",
      "Epoch 4: LearningRateScheduler setting learning rate to 0.0015.\n",
      "Epoch 4/80\n",
      "40/40 [==============================] - 5s 125ms/step - loss: 0.6073 - mse: 0.6600 - accuracy: 0.5496 - val_loss: 1.3055 - val_mse: 1.3054 - val_accuracy: 0.1571 - lr: 0.0015\n",
      "\n",
      "Epoch 5: LearningRateScheduler setting learning rate to 0.0016666666666666666.\n",
      "Epoch 5/80\n",
      "40/40 [==============================] - 6s 148ms/step - loss: 0.5097 - mse: 0.5082 - accuracy: 0.5592 - val_loss: 0.6174 - val_mse: 0.6174 - val_accuracy: 0.1571 - lr: 0.0017\n",
      "\n",
      "Epoch 6: LearningRateScheduler setting learning rate to 0.0018333333333333333.\n",
      "Epoch 6/80\n",
      "40/40 [==============================] - 6s 152ms/step - loss: 0.4463 - mse: 0.4785 - accuracy: 0.5528 - val_loss: 0.4347 - val_mse: 0.4347 - val_accuracy: 0.1571 - lr: 0.0018\n",
      "\n",
      "Epoch 7: LearningRateScheduler setting learning rate to 0.002.\n",
      "Epoch 7/80\n",
      "40/40 [==============================] - 6s 151ms/step - loss: 0.3485 - mse: 0.3715 - accuracy: 0.5896 - val_loss: 0.2607 - val_mse: 0.2608 - val_accuracy: 0.4135 - lr: 0.0020\n",
      "\n",
      "Epoch 8: LearningRateScheduler setting learning rate to 0.0015.\n",
      "Epoch 8/80\n",
      "40/40 [==============================] - 6s 149ms/step - loss: 0.3413 - mse: 0.3415 - accuracy: 0.5560 - val_loss: 0.2468 - val_mse: 0.2467 - val_accuracy: 0.5128 - lr: 0.0015\n",
      "\n",
      "Epoch 9: LearningRateScheduler setting learning rate to 0.00125.\n",
      "Epoch 9/80\n",
      "40/40 [==============================] - 6s 147ms/step - loss: 0.2901 - mse: 0.3068 - accuracy: 0.5888 - val_loss: 0.2266 - val_mse: 0.2267 - val_accuracy: 0.5994 - lr: 0.0012\n",
      "\n",
      "Epoch 10: LearningRateScheduler setting learning rate to 0.0011250000000000001.\n",
      "Epoch 10/80\n",
      "40/40 [==============================] - 7s 182ms/step - loss: 0.2710 - mse: 0.2836 - accuracy: 0.6248 - val_loss: 0.2249 - val_mse: 0.2248 - val_accuracy: 0.6250 - lr: 0.0011\n",
      "\n",
      "Epoch 11: LearningRateScheduler setting learning rate to 0.0010625.\n",
      "Epoch 11/80\n",
      "40/40 [==============================] - 6s 146ms/step - loss: 0.2473 - mse: 0.2683 - accuracy: 0.6336 - val_loss: 0.1741 - val_mse: 0.1740 - val_accuracy: 0.8045 - lr: 0.0011\n",
      "\n",
      "Epoch 12: LearningRateScheduler setting learning rate to 0.00103125.\n",
      "Epoch 12/80\n",
      "40/40 [==============================] - 6s 144ms/step - loss: 0.2246 - mse: 0.2371 - accuracy: 0.6664 - val_loss: 0.1640 - val_mse: 0.1640 - val_accuracy: 0.8173 - lr: 0.0010\n",
      "\n",
      "Epoch 13: LearningRateScheduler setting learning rate to 0.001015625.\n",
      "Epoch 13/80\n",
      "40/40 [==============================] - 7s 171ms/step - loss: 0.2172 - mse: 0.2192 - accuracy: 0.6944 - val_loss: 0.1497 - val_mse: 0.1498 - val_accuracy: 0.8301 - lr: 0.0010\n",
      "\n",
      "Epoch 14: LearningRateScheduler setting learning rate to 0.0010078125.\n",
      "Epoch 14/80\n",
      "40/40 [==============================] - 6s 144ms/step - loss: 0.1930 - mse: 0.2085 - accuracy: 0.6936 - val_loss: 0.1308 - val_mse: 0.1308 - val_accuracy: 0.8429 - lr: 0.0010\n",
      "\n",
      "Epoch 15: LearningRateScheduler setting learning rate to 0.00100390625.\n",
      "Epoch 15/80\n",
      "40/40 [==============================] - 5s 128ms/step - loss: 0.1923 - mse: 0.2039 - accuracy: 0.7192 - val_loss: 0.1656 - val_mse: 0.1656 - val_accuracy: 0.7179 - lr: 0.0010\n",
      "\n",
      "Epoch 16: LearningRateScheduler setting learning rate to 0.001001953125.\n",
      "Epoch 16/80\n",
      "40/40 [==============================] - 5s 128ms/step - loss: 0.1847 - mse: 0.1890 - accuracy: 0.7336 - val_loss: 0.1379 - val_mse: 0.1379 - val_accuracy: 0.8269 - lr: 0.0010\n",
      "\n",
      "Epoch 17: LearningRateScheduler setting learning rate to 0.0010009765625.\n",
      "Epoch 17/80\n",
      "40/40 [==============================] - 6s 151ms/step - loss: 0.1655 - mse: 0.1812 - accuracy: 0.7504 - val_loss: 0.1209 - val_mse: 0.1209 - val_accuracy: 0.8462 - lr: 0.0010\n",
      "\n",
      "Epoch 18: LearningRateScheduler setting learning rate to 0.00100048828125.\n",
      "Epoch 18/80\n",
      "40/40 [==============================] - 6s 154ms/step - loss: 0.1624 - mse: 0.1634 - accuracy: 0.7720 - val_loss: 0.1029 - val_mse: 0.1029 - val_accuracy: 0.8558 - lr: 0.0010\n",
      "\n",
      "Epoch 19: LearningRateScheduler setting learning rate to 0.001000244140625.\n",
      "Epoch 19/80\n",
      "40/40 [==============================] - 6s 155ms/step - loss: 0.1444 - mse: 0.1614 - accuracy: 0.7864 - val_loss: 0.0979 - val_mse: 0.0979 - val_accuracy: 0.8686 - lr: 0.0010\n",
      "\n",
      "Epoch 20: LearningRateScheduler setting learning rate to 0.0010001220703125.\n",
      "Epoch 20/80\n",
      "40/40 [==============================] - 5s 129ms/step - loss: 0.1466 - mse: 0.1426 - accuracy: 0.8264 - val_loss: 0.1333 - val_mse: 0.1333 - val_accuracy: 0.8429 - lr: 0.0010\n",
      "\n",
      "Epoch 21: LearningRateScheduler setting learning rate to 0.00100006103515625.\n",
      "Epoch 21/80\n",
      "40/40 [==============================] - 6s 154ms/step - loss: 0.1289 - mse: 0.1407 - accuracy: 0.8280 - val_loss: 0.0753 - val_mse: 0.0753 - val_accuracy: 0.9199 - lr: 0.0010\n",
      "\n",
      "Epoch 22: LearningRateScheduler setting learning rate to 0.001000030517578125.\n",
      "Epoch 22/80\n",
      "40/40 [==============================] - 5s 129ms/step - loss: 0.1174 - mse: 0.1252 - accuracy: 0.8488 - val_loss: 0.1196 - val_mse: 0.1196 - val_accuracy: 0.8429 - lr: 0.0010\n",
      "\n",
      "Epoch 23: LearningRateScheduler setting learning rate to 0.0010000152587890626.\n",
      "Epoch 23/80\n",
      "40/40 [==============================] - 5s 129ms/step - loss: 0.1176 - mse: 0.1262 - accuracy: 0.8512 - val_loss: 0.0990 - val_mse: 0.0990 - val_accuracy: 0.9103 - lr: 0.0010\n",
      "\n",
      "Epoch 24: LearningRateScheduler setting learning rate to 0.0010000076293945313.\n",
      "Epoch 24/80\n",
      "40/40 [==============================] - 6s 152ms/step - loss: 0.1131 - mse: 0.1231 - accuracy: 0.8616 - val_loss: 0.0556 - val_mse: 0.0556 - val_accuracy: 0.9840 - lr: 0.0010\n",
      "\n",
      "Epoch 25: LearningRateScheduler setting learning rate to 0.0010000038146972656.\n",
      "Epoch 25/80\n",
      "40/40 [==============================] - 5s 130ms/step - loss: 0.1048 - mse: 0.1083 - accuracy: 0.8856 - val_loss: 0.0557 - val_mse: 0.0558 - val_accuracy: 0.9519 - lr: 0.0010\n",
      "\n",
      "Epoch 26: LearningRateScheduler setting learning rate to 0.0010000019073486328.\n",
      "Epoch 26/80\n",
      "40/40 [==============================] - 5s 129ms/step - loss: 0.0941 - mse: 0.0985 - accuracy: 0.8984 - val_loss: 0.0766 - val_mse: 0.0766 - val_accuracy: 0.9295 - lr: 0.0010\n",
      "\n",
      "Epoch 27: LearningRateScheduler setting learning rate to 0.0010000009536743164.\n",
      "Epoch 27/80\n",
      "40/40 [==============================] - 5s 130ms/step - loss: 0.0885 - mse: 0.0947 - accuracy: 0.9072 - val_loss: 0.0649 - val_mse: 0.0649 - val_accuracy: 0.9327 - lr: 0.0010\n",
      "\n",
      "Epoch 28: LearningRateScheduler setting learning rate to 0.0010000004768371583.\n",
      "Epoch 28/80\n",
      "40/40 [==============================] - 6s 160ms/step - loss: 0.0848 - mse: 0.0948 - accuracy: 0.9032 - val_loss: 0.0465 - val_mse: 0.0465 - val_accuracy: 0.9936 - lr: 0.0010\n",
      "\n",
      "Epoch 29: LearningRateScheduler setting learning rate to 0.0010000002384185792.\n",
      "Epoch 29/80\n",
      "40/40 [==============================] - 5s 130ms/step - loss: 0.0823 - mse: 0.0841 - accuracy: 0.9144 - val_loss: 0.0475 - val_mse: 0.0475 - val_accuracy: 0.9872 - lr: 0.0010\n",
      "\n",
      "Epoch 30: LearningRateScheduler setting learning rate to 0.0010000001192092896.\n",
      "Epoch 30/80\n",
      "40/40 [==============================] - 5s 131ms/step - loss: 0.1007 - mse: 0.0887 - accuracy: 0.9280 - val_loss: 0.0846 - val_mse: 0.0846 - val_accuracy: 0.8718 - lr: 0.0010\n",
      "\n",
      "Epoch 31: LearningRateScheduler setting learning rate to 0.0010000000596046448.\n",
      "Epoch 31/80\n",
      "40/40 [==============================] - 5s 129ms/step - loss: 0.0898 - mse: 0.0881 - accuracy: 0.9120 - val_loss: 0.0621 - val_mse: 0.0621 - val_accuracy: 0.9519 - lr: 0.0010\n",
      "\n",
      "Epoch 32: LearningRateScheduler setting learning rate to 0.0010000000298023223.\n",
      "Epoch 32/80\n",
      "40/40 [==============================] - 5s 131ms/step - loss: 0.0787 - mse: 0.0777 - accuracy: 0.9328 - val_loss: 0.0873 - val_mse: 0.0873 - val_accuracy: 0.9199 - lr: 0.0010\n",
      "\n",
      "Epoch 33: LearningRateScheduler setting learning rate to 0.0010000000149011613.\n",
      "Epoch 33/80\n",
      "40/40 [==============================] - 5s 130ms/step - loss: 0.0739 - mse: 0.0723 - accuracy: 0.9432 - val_loss: 0.0877 - val_mse: 0.0877 - val_accuracy: 0.9199 - lr: 0.0010\n",
      "\n",
      "Epoch 34: LearningRateScheduler setting learning rate to 0.0010000000074505805.\n",
      "Epoch 34/80\n",
      "40/40 [==============================] - 5s 131ms/step - loss: 0.0748 - mse: 0.0786 - accuracy: 0.9352 - val_loss: 0.0541 - val_mse: 0.0541 - val_accuracy: 0.9615 - lr: 0.0010\n",
      "\n",
      "Epoch 35: LearningRateScheduler setting learning rate to 0.0010000000037252903.\n",
      "Epoch 35/80\n",
      "40/40 [==============================] - 5s 131ms/step - loss: 0.0694 - mse: 0.0727 - accuracy: 0.9544 - val_loss: 0.0867 - val_mse: 0.0867 - val_accuracy: 0.9263 - lr: 0.0010\n",
      "\n",
      "Epoch 36: LearningRateScheduler setting learning rate to 0.0010000000018626453.\n",
      "Epoch 36/80\n",
      "40/40 [==============================] - 6s 153ms/step - loss: 0.0780 - mse: 0.0699 - accuracy: 0.9432 - val_loss: 0.0405 - val_mse: 0.0405 - val_accuracy: 0.9840 - lr: 0.0010\n",
      "\n",
      "Epoch 37: LearningRateScheduler setting learning rate to 0.0010000000009313225.\n",
      "Epoch 37/80\n",
      "40/40 [==============================] - 5s 130ms/step - loss: 0.0599 - mse: 0.0604 - accuracy: 0.9640 - val_loss: 0.0793 - val_mse: 0.0793 - val_accuracy: 0.9776 - lr: 0.0010\n",
      "\n",
      "Epoch 38: LearningRateScheduler setting learning rate to 0.0010000000004656614.\n",
      "Epoch 38/80\n",
      "40/40 [==============================] - 5s 130ms/step - loss: 0.0703 - mse: 0.0630 - accuracy: 0.9632 - val_loss: 0.0506 - val_mse: 0.0506 - val_accuracy: 0.9808 - lr: 0.0010\n",
      "\n",
      "Epoch 39: LearningRateScheduler setting learning rate to 0.0010000000002328307.\n",
      "Epoch 39/80\n",
      "40/40 [==============================] - 5s 130ms/step - loss: 0.0680 - mse: 0.0642 - accuracy: 0.9560 - val_loss: 0.4177 - val_mse: 0.4178 - val_accuracy: 0.8494 - lr: 0.0010\n",
      "\n",
      "Epoch 40: LearningRateScheduler setting learning rate to 0.0010000000001164154.\n",
      "Epoch 40/80\n",
      "40/40 [==============================] - 6s 152ms/step - loss: 0.0677 - mse: 0.0608 - accuracy: 0.9656 - val_loss: 0.0233 - val_mse: 0.0233 - val_accuracy: 1.0000 - lr: 0.0010\n",
      "\n",
      "Epoch 41: LearningRateScheduler setting learning rate to 0.0010000000000582076.\n",
      "Epoch 41/80\n",
      "40/40 [==============================] - 5s 130ms/step - loss: 0.0660 - mse: 0.0557 - accuracy: 0.9688 - val_loss: 0.0648 - val_mse: 0.0648 - val_accuracy: 0.9712 - lr: 0.0010\n",
      "\n",
      "Epoch 42: LearningRateScheduler setting learning rate to 0.001000000000029104.\n",
      "Epoch 42/80\n",
      "40/40 [==============================] - 5s 130ms/step - loss: 0.0578 - mse: 0.0497 - accuracy: 0.9728 - val_loss: 0.0237 - val_mse: 0.0237 - val_accuracy: 1.0000 - lr: 0.0010\n",
      "\n",
      "Epoch 43: LearningRateScheduler setting learning rate to 0.001000000000014552.\n",
      "Epoch 43/80\n",
      "40/40 [==============================] - 6s 153ms/step - loss: 0.0603 - mse: 0.0512 - accuracy: 0.9744 - val_loss: 0.0219 - val_mse: 0.0219 - val_accuracy: 1.0000 - lr: 0.0010\n",
      "\n",
      "Epoch 44: LearningRateScheduler setting learning rate to 0.0010000000000072759.\n",
      "Epoch 44/80\n",
      "40/40 [==============================] - 5s 130ms/step - loss: 0.0567 - mse: 0.0497 - accuracy: 0.9816 - val_loss: 0.0427 - val_mse: 0.0427 - val_accuracy: 0.9840 - lr: 0.0010\n",
      "\n",
      "Epoch 45: LearningRateScheduler setting learning rate to 0.001000000000003638.\n",
      "Epoch 45/80\n",
      "40/40 [==============================] - 5s 130ms/step - loss: 0.0922 - mse: 0.0790 - accuracy: 0.9248 - val_loss: 0.1844 - val_mse: 0.1844 - val_accuracy: 0.7115 - lr: 0.0010\n",
      "\n",
      "Epoch 46: LearningRateScheduler setting learning rate to 0.001000000000001819.\n",
      "Epoch 46/80\n",
      "40/40 [==============================] - 5s 130ms/step - loss: 0.0678 - mse: 0.0609 - accuracy: 0.9632 - val_loss: 0.0408 - val_mse: 0.0408 - val_accuracy: 0.9840 - lr: 0.0010\n",
      "\n",
      "Epoch 47: LearningRateScheduler setting learning rate to 0.0010000000000009094.\n",
      "Epoch 47/80\n",
      "40/40 [==============================] - 5s 132ms/step - loss: 0.0599 - mse: 0.0521 - accuracy: 0.9728 - val_loss: 0.0230 - val_mse: 0.0230 - val_accuracy: 1.0000 - lr: 0.0010\n",
      "\n",
      "Epoch 48: LearningRateScheduler setting learning rate to 0.0010000000000004547.\n",
      "Epoch 48/80\n",
      "40/40 [==============================] - 5s 130ms/step - loss: 0.0570 - mse: 0.0485 - accuracy: 0.9768 - val_loss: 0.0255 - val_mse: 0.0255 - val_accuracy: 0.9968 - lr: 0.0010\n",
      "\n",
      "Epoch 49: LearningRateScheduler setting learning rate to 0.0010000000000002275.\n",
      "Epoch 49/80\n",
      "40/40 [==============================] - 5s 130ms/step - loss: 0.0605 - mse: 0.0458 - accuracy: 0.9824 - val_loss: 0.1238 - val_mse: 0.1238 - val_accuracy: 0.9199 - lr: 0.0010\n",
      "\n",
      "Epoch 50: LearningRateScheduler setting learning rate to 0.0010000000000001136.\n",
      "Epoch 50/80\n",
      "40/40 [==============================] - 5s 131ms/step - loss: 0.0628 - mse: 0.0546 - accuracy: 0.9768 - val_loss: 0.0332 - val_mse: 0.0332 - val_accuracy: 0.9872 - lr: 0.0010\n",
      "\n",
      "Epoch 51: LearningRateScheduler setting learning rate to 0.0010000000000000568.\n",
      "Epoch 51/80\n",
      "40/40 [==============================] - 5s 130ms/step - loss: 0.0558 - mse: 0.0488 - accuracy: 0.9752 - val_loss: 0.0519 - val_mse: 0.0519 - val_accuracy: 0.9712 - lr: 0.0010\n",
      "\n",
      "Epoch 52: LearningRateScheduler setting learning rate to 0.0010000000000000284.\n",
      "Epoch 52/80\n",
      "40/40 [==============================] - 5s 130ms/step - loss: 0.8626 - mse: 0.9172 - accuracy: 0.6296 - val_loss: 163.7885 - val_mse: 163.7772 - val_accuracy: 0.7051 - lr: 0.0010\n",
      "\n",
      "Epoch 53: LearningRateScheduler setting learning rate to 0.0010000000000000143.\n",
      "Epoch 53/80\n",
      "40/40 [==============================] - 5s 129ms/step - loss: 0.4494 - mse: 0.3960 - accuracy: 0.6032 - val_loss: 0.3738 - val_mse: 0.3738 - val_accuracy: 0.7436 - lr: 0.0010\n",
      "\n",
      "Epoch 54: LearningRateScheduler setting learning rate to 0.0010000000000000072.\n",
      "Epoch 54/80\n",
      "40/40 [==============================] - 5s 131ms/step - loss: 0.3199 - mse: 0.3051 - accuracy: 0.6320 - val_loss: 0.1757 - val_mse: 0.1758 - val_accuracy: 0.7660 - lr: 0.0010\n",
      "\n",
      "Epoch 55: LearningRateScheduler setting learning rate to 0.0010000000000000035.\n",
      "Epoch 55/80\n",
      "40/40 [==============================] - 5s 130ms/step - loss: 0.2878 - mse: 0.2756 - accuracy: 0.6000 - val_loss: 0.4850 - val_mse: 0.4849 - val_accuracy: 0.2051 - lr: 0.0010\n",
      "\n",
      "Epoch 56: LearningRateScheduler setting learning rate to 0.0010000000000000018.\n",
      "Epoch 56/80\n",
      "40/40 [==============================] - 5s 132ms/step - loss: 0.2580 - mse: 0.2513 - accuracy: 0.5960 - val_loss: 0.4160 - val_mse: 0.4160 - val_accuracy: 0.2372 - lr: 0.0010\n",
      "\n",
      "Epoch 57: LearningRateScheduler setting learning rate to 0.0010000000000000009.\n",
      "Epoch 57/80\n",
      "40/40 [==============================] - 5s 131ms/step - loss: 0.2262 - mse: 0.2241 - accuracy: 0.6552 - val_loss: 0.3865 - val_mse: 0.3865 - val_accuracy: 0.2724 - lr: 0.0010\n",
      "\n",
      "Epoch 58: LearningRateScheduler setting learning rate to 0.0010000000000000005.\n",
      "Epoch 58/80\n",
      "40/40 [==============================] - 5s 131ms/step - loss: 0.2135 - mse: 0.2110 - accuracy: 0.6680 - val_loss: 0.2965 - val_mse: 0.2966 - val_accuracy: 0.3878 - lr: 0.0010\n",
      "\n",
      "Epoch 59: LearningRateScheduler setting learning rate to 0.0010000000000000002.\n",
      "Epoch 59/80\n",
      "40/40 [==============================] - 5s 130ms/step - loss: 0.2066 - mse: 0.2085 - accuracy: 0.6712 - val_loss: 0.2327 - val_mse: 0.2327 - val_accuracy: 0.5833 - lr: 0.0010\n",
      "\n",
      "Epoch 60: LearningRateScheduler setting learning rate to 0.0010000000000000002.\n",
      "Epoch 60/80\n",
      "40/40 [==============================] - 5s 131ms/step - loss: 0.1961 - mse: 0.1987 - accuracy: 0.7000 - val_loss: 0.1904 - val_mse: 0.1904 - val_accuracy: 0.7372 - lr: 0.0010\n",
      "\n",
      "Epoch 61: LearningRateScheduler setting learning rate to 0.001.\n",
      "Epoch 61/80\n",
      "40/40 [==============================] - 5s 131ms/step - loss: 0.1890 - mse: 0.1910 - accuracy: 0.7152 - val_loss: 0.2854 - val_mse: 0.2854 - val_accuracy: 0.4551 - lr: 0.0010\n",
      "\n",
      "Epoch 62: LearningRateScheduler setting learning rate to 0.001.\n",
      "Epoch 62/80\n",
      "40/40 [==============================] - 5s 131ms/step - loss: 0.1720 - mse: 0.1780 - accuracy: 0.7416 - val_loss: 0.1728 - val_mse: 0.1728 - val_accuracy: 0.7885 - lr: 0.0010\n",
      "\n",
      "Epoch 63: LearningRateScheduler setting learning rate to 0.001.\n",
      "Epoch 63/80\n",
      "40/40 [==============================] - 5s 130ms/step - loss: 0.1365 - mse: 0.1524 - accuracy: 0.8032 - val_loss: 0.1507 - val_mse: 0.1507 - val_accuracy: 0.8045 - lr: 0.0010\n",
      "\n",
      "Epoch 64: LearningRateScheduler setting learning rate to 0.001.\n",
      "Epoch 64/80\n",
      "40/40 [==============================] - 5s 130ms/step - loss: 0.1447 - mse: 0.1532 - accuracy: 0.7880 - val_loss: 0.1358 - val_mse: 0.1358 - val_accuracy: 0.8333 - lr: 0.0010\n",
      "\n",
      "Epoch 65: LearningRateScheduler setting learning rate to 0.001.\n",
      "Epoch 65/80\n",
      "40/40 [==============================] - 5s 130ms/step - loss: 0.1368 - mse: 0.1393 - accuracy: 0.8264 - val_loss: 0.1187 - val_mse: 0.1188 - val_accuracy: 0.9006 - lr: 0.0010\n",
      "\n",
      "Epoch 66: LearningRateScheduler setting learning rate to 0.001.\n",
      "Epoch 66/80\n",
      "40/40 [==============================] - 5s 132ms/step - loss: 0.1145 - mse: 0.1304 - accuracy: 0.8520 - val_loss: 0.0763 - val_mse: 0.0763 - val_accuracy: 0.9712 - lr: 0.0010\n",
      "\n",
      "Epoch 67: LearningRateScheduler setting learning rate to 0.001.\n",
      "Epoch 67/80\n",
      "40/40 [==============================] - 5s 131ms/step - loss: 0.1094 - mse: 0.1174 - accuracy: 0.8576 - val_loss: 0.1542 - val_mse: 0.1543 - val_accuracy: 0.7853 - lr: 0.0010\n",
      "\n",
      "Epoch 68: LearningRateScheduler setting learning rate to 0.001.\n",
      "Epoch 68/80\n",
      "40/40 [==============================] - 5s 131ms/step - loss: 0.0925 - mse: 0.1007 - accuracy: 0.8976 - val_loss: 0.0649 - val_mse: 0.0649 - val_accuracy: 0.9615 - lr: 0.0010\n",
      "\n",
      "Epoch 69: LearningRateScheduler setting learning rate to 0.001.\n",
      "Epoch 69/80\n",
      "40/40 [==============================] - 5s 127ms/step - loss: 0.0904 - mse: 0.0923 - accuracy: 0.9040 - val_loss: 0.1003 - val_mse: 0.1003 - val_accuracy: 0.8942 - lr: 0.0010\n",
      "\n",
      "Epoch 70: LearningRateScheduler setting learning rate to 0.001.\n",
      "Epoch 70/80\n",
      "40/40 [==============================] - 5s 125ms/step - loss: 0.0867 - mse: 0.0922 - accuracy: 0.9128 - val_loss: 0.1063 - val_mse: 0.1063 - val_accuracy: 0.8974 - lr: 0.0010\n",
      "\n",
      "Epoch 71: LearningRateScheduler setting learning rate to 0.001.\n",
      "Epoch 71/80\n",
      "40/40 [==============================] - 5s 129ms/step - loss: 0.0899 - mse: 0.0867 - accuracy: 0.9280 - val_loss: 0.0976 - val_mse: 0.0976 - val_accuracy: 0.9167 - lr: 0.0010\n",
      "\n",
      "Epoch 72: LearningRateScheduler setting learning rate to 0.001.\n",
      "Epoch 72/80\n",
      "40/40 [==============================] - 5s 132ms/step - loss: 0.0812 - mse: 0.0817 - accuracy: 0.9352 - val_loss: 0.0999 - val_mse: 0.0999 - val_accuracy: 0.8942 - lr: 0.0010\n",
      "\n",
      "Epoch 73: LearningRateScheduler setting learning rate to 0.001.\n",
      "Epoch 73/80\n",
      "40/40 [==============================] - 5s 130ms/step - loss: 0.0811 - mse: 0.0805 - accuracy: 0.9344 - val_loss: 0.1008 - val_mse: 0.1008 - val_accuracy: 0.9391 - lr: 0.0010\n",
      "\n",
      "Epoch 74: LearningRateScheduler setting learning rate to 0.001.\n",
      "Epoch 74/80\n",
      "40/40 [==============================] - 5s 130ms/step - loss: 0.0794 - mse: 0.0817 - accuracy: 0.9168 - val_loss: 0.1294 - val_mse: 0.1294 - val_accuracy: 0.8686 - lr: 0.0010\n",
      "\n",
      "Epoch 75: LearningRateScheduler setting learning rate to 0.001.\n",
      "Epoch 75/80\n",
      "40/40 [==============================] - 5s 130ms/step - loss: 0.0756 - mse: 0.0799 - accuracy: 0.9280 - val_loss: 0.0891 - val_mse: 0.0891 - val_accuracy: 0.9551 - lr: 0.0010\n",
      "\n",
      "Epoch 76: LearningRateScheduler setting learning rate to 0.001.\n",
      "Epoch 76/80\n",
      "40/40 [==============================] - 5s 130ms/step - loss: 0.0814 - mse: 0.0799 - accuracy: 0.9328 - val_loss: 0.0364 - val_mse: 0.0365 - val_accuracy: 0.9936 - lr: 0.0010\n",
      "\n",
      "Epoch 77: LearningRateScheduler setting learning rate to 0.001.\n",
      "Epoch 77/80\n",
      "40/40 [==============================] - 5s 131ms/step - loss: 0.0732 - mse: 0.0691 - accuracy: 0.9512 - val_loss: 0.0792 - val_mse: 0.0792 - val_accuracy: 0.9551 - lr: 0.0010\n",
      "\n",
      "Epoch 78: LearningRateScheduler setting learning rate to 0.001.\n",
      "Epoch 78/80\n",
      "40/40 [==============================] - 5s 131ms/step - loss: 0.0685 - mse: 0.0722 - accuracy: 0.9440 - val_loss: 0.4055 - val_mse: 0.4055 - val_accuracy: 0.3686 - lr: 0.0010\n",
      "\n",
      "Epoch 79: LearningRateScheduler setting learning rate to 0.001.\n",
      "Epoch 79/80\n",
      "40/40 [==============================] - 5s 131ms/step - loss: 0.0787 - mse: 0.0701 - accuracy: 0.9480 - val_loss: 0.0418 - val_mse: 0.0418 - val_accuracy: 0.9872 - lr: 0.0010\n",
      "\n",
      "Epoch 80: LearningRateScheduler setting learning rate to 0.001.\n",
      "Epoch 80/80\n",
      "40/40 [==============================] - 5s 132ms/step - loss: 0.0859 - mse: 0.0775 - accuracy: 0.9336 - val_loss: 0.0632 - val_mse: 0.0632 - val_accuracy: 0.9776 - lr: 0.0010\n"
     ]
    }
   ],
   "source": [
    "history = model.fit(cloud_train, rain_train_c, epochs=80, validation_data=(cloud_val, rain_val_c), callbacks=[lr_scheduler_rampup, model_save], class_weight=class_weights_manual)"
   ]
  },
  {
   "cell_type": "code",
   "execution_count": 77,
   "id": "1177135a",
   "metadata": {},
   "outputs": [
    {
     "data": {
      "image/png": "[encoded data removed]",
      "text/plain": [
       "<Figure size 640x480 with 1 Axes>"
      ]
     },
     "metadata": {},
     "output_type": "display_data"
    },
    {
     "data": {
      "image/png": "[encoded data removed]",
      "text/plain": [
       "<Figure size 640x480 with 1 Axes>"
      ]
     },
     "metadata": {},
     "output_type": "display_data"
    },
    {
     "name": "stdout",
     "output_type": "stream",
     "text": [
      "10/10 [==============================] - 1s 30ms/step\n",
      "              precision    recall  f1-score   support\n",
      "\n",
      "           0       1.00      0.93      0.96       263\n",
      "           1       0.72      1.00      0.84        49\n",
      "\n",
      "    accuracy                           0.94       312\n",
      "   macro avg       0.86      0.96      0.90       312\n",
      "weighted avg       0.96      0.94      0.94       312\n",
      "\n"
     ]
    }
   ],
   "source": [
    "plt.plot(history.history['mse'])\n",
    "plt.plot(history.history['val_mse'])\n",
    "plt.legend(['train', 'validation'])\n",
    "plt.title('Mean squared error')\n",
    "plt.show()\n",
    "\n",
    "plt.plot(history.history['accuracy'])\n",
    "plt.plot(history.history['val_accuracy'])\n",
    "plt.legend(['train', 'validation'])\n",
    "plt.title('Accuracy')\n",
    "plt.show()\n",
    "\n",
    "\n",
    "### we also compute the f1 score for the validation data\n",
    "\n",
    "y_pred = model.predict(cloud_val)\n",
    "\n",
    "y_pred_b = [1 if 0.10 <= r else 0 for r in y_pred]\n",
    "\n",
    "y_pred_c = np.array(y_pred_b)\n",
    "\n",
    "f1_score(rain_val_c, y_pred_c)\n",
    "\n",
    "### we will also get f1 scores for different classes of rain\n",
    "\n",
    "\n",
    "print(classification_report(rain_val_c, y_pred_c))"
   ]
  },
  {
   "cell_type": "markdown",
   "id": "566d9eaa",
   "metadata": {},
   "source": [
    "### Conclusion:"
   ]
  },
  {
   "cell_type": "markdown",
   "id": "7956c102",
   "metadata": {},
   "source": [
    "We tested out different models to make predictions and Conv LSTM with attention gave us the best results."
   ]
  },
  {
   "cell_type": "markdown",
   "id": "5364351f",
   "metadata": {},
   "source": [
    "Thank you"
   ]
  }
 ],
 "metadata": {
  "kernelspec": {
   "display_name": "Python 3",
   "language": "python",
   "name": "python3"
  },
  "language_info": {
   "codemirror_mode": {
    "name": "ipython",
    "version": 3
   },
   "file_extension": ".py",
   "mimetype": "text/x-python",
   "name": "python",
   "nbconvert_exporter": "python",
   "pygments_lexer": "ipython3",
   "version": "3.8.18"
  }
 },
 "nbformat": 4,
 "nbformat_minor": 5
}
